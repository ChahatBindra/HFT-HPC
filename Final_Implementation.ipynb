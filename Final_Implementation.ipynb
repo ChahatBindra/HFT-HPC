{
  "nbformat": 4,
  "nbformat_minor": 0,
  "metadata": {
    "colab": {
      "name": "HPC_6",
      "provenance": [],
      "collapsed_sections": []
    },
    "kernelspec": {
      "name": "python3",
      "display_name": "Python 3"
    },
    "language_info": {
      "name": "python"
    },
    "accelerator": "GPU"
  },
  "cells": [
    {
      "cell_type": "code",
      "metadata": {
        "id": "hclfv_MXPEJu"
      },
      "source": [
        "import tensorflow as tf"
      ],
      "execution_count": 6,
      "outputs": []
    },
    {
      "cell_type": "code",
      "metadata": {
        "colab": {
          "base_uri": "https://localhost:8080/",
          "height": 35
        },
        "id": "D_nhQHHNZqMC",
        "outputId": "809fec68-2790-4931-8929-bc40089c86be"
      },
      "source": [
        "tf.__version__"
      ],
      "execution_count": 7,
      "outputs": [
        {
          "output_type": "execute_result",
          "data": {
            "application/vnd.google.colaboratory.intrinsic+json": {
              "type": "string"
            },
            "text/plain": [
              "'2.4.1'"
            ]
          },
          "metadata": {
            "tags": []
          },
          "execution_count": 7
        }
      ]
    },
    {
      "cell_type": "code",
      "metadata": {
        "colab": {
          "base_uri": "https://localhost:8080/"
        },
        "id": "JuhYIc_OZrgn",
        "outputId": "73133318-3519-4093-b961-eaa3559f0730"
      },
      "source": [
        "from tensorflow.python.client import device_lib\n",
        "print(device_lib.list_local_devices())"
      ],
      "execution_count": 8,
      "outputs": [
        {
          "output_type": "stream",
          "text": [
            "[name: \"/device:CPU:0\"\n",
            "device_type: \"CPU\"\n",
            "memory_limit: 268435456\n",
            "locality {\n",
            "}\n",
            "incarnation: 14109046780236086452\n",
            ", name: \"/device:GPU:0\"\n",
            "device_type: \"GPU\"\n",
            "memory_limit: 14458421248\n",
            "locality {\n",
            "  bus_id: 1\n",
            "  links {\n",
            "  }\n",
            "}\n",
            "incarnation: 2183475192373655065\n",
            "physical_device_desc: \"device: 0, name: Tesla T4, pci bus id: 0000:00:04.0, compute capability: 7.5\"\n",
            "]\n"
          ],
          "name": "stdout"
        }
      ]
    },
    {
      "cell_type": "code",
      "metadata": {
        "colab": {
          "base_uri": "https://localhost:8080/"
        },
        "id": "QgWIFjxEZs7X",
        "outputId": "a7ae2b4c-638c-4efb-c0e4-74498ec2cde4"
      },
      "source": [
        "print(\"Num GPUs Available: \", len(tf.config.experimental.list_physical_devices('GPU')))"
      ],
      "execution_count": 9,
      "outputs": [
        {
          "output_type": "stream",
          "text": [
            "Num GPUs Available:  1\n"
          ],
          "name": "stdout"
        }
      ]
    },
    {
      "cell_type": "code",
      "metadata": {
        "colab": {
          "base_uri": "https://localhost:8080/"
        },
        "id": "gP3-etY3aMTI",
        "outputId": "62a50a60-d6d6-4ae0-8425-e81e672775ab"
      },
      "source": [
        "print(\"Num GPUs Available: \", len(tf.config.experimental.list_physical_devices()))"
      ],
      "execution_count": 10,
      "outputs": [
        {
          "output_type": "stream",
          "text": [
            "Num GPUs Available:  2\n"
          ],
          "name": "stdout"
        }
      ]
    },
    {
      "cell_type": "code",
      "metadata": {
        "id": "sGNqvBzqaOgj"
      },
      "source": [
        "from google.colab import drive\n",
        "drive.mount('/content/drive')"
      ],
      "execution_count": null,
      "outputs": []
    },
    {
      "cell_type": "code",
      "metadata": {
        "id": "EOCBmSAXaQMc"
      },
      "source": [
        "from tensorflow.python.keras import backend as K\n",
        "\n",
        "# adjust values to your needs\n",
        "config = tf.compat.v1.ConfigProto( device_count = {'GPU': 2 , 'CPU': 8} )\n",
        "sess = tf.compat.v1.Session(config=config) \n",
        "K.set_session(sess)"
      ],
      "execution_count": 11,
      "outputs": []
    },
    {
      "cell_type": "code",
      "metadata": {
        "id": "k9lNSaYVaaZz"
      },
      "source": [
        "import pandas as pd\n",
        "import numpy as np\n",
        "import math\n",
        "import nltk\n",
        "\n",
        "from nltk.stem import WordNetLemmatizer \n",
        "from nltk.stem.lancaster import LancasterStemmer\n",
        "from nltk.stem import PorterStemmer\n",
        "from nltk.corpus import stopwords\n",
        "from nltk import word_tokenize\n",
        "\n",
        "from sklearn.naive_bayes import MultinomialNB, GaussianNB\n",
        "from sklearn.ensemble import RandomForestClassifier\n",
        "from sklearn.linear_model import LogisticRegression\n",
        "from sklearn.model_selection import train_test_split\n",
        "from sklearn.feature_extraction.text import TfidfVectorizer, CountVectorizer\n",
        "from sklearn.preprocessing import LabelEncoder\n",
        "from scipy.sparse import hstack as sp_hstack, vstack as sp_vstack\n",
        "from scipy.interpolate import make_interp_spline, BSpline\n",
        "from sklearn.linear_model import LinearRegression\n",
        "\n",
        "from joblib import Parallel, delayed\n",
        "\n",
        "import time\n",
        "\n",
        "from keras.models import Sequential\n",
        "from keras.layers.recurrent import LSTM, GRU\n",
        "from keras.layers.core import Dense, Activation, Dropout\n",
        "from keras.layers.embeddings import Embedding\n",
        "from keras.layers.normalization import BatchNormalization\n",
        "from keras.utils import np_utils\n",
        "from keras.layers import GlobalMaxPooling1D, Conv1D, MaxPooling1D, Flatten, Bidirectional, SpatialDropout1D\n",
        "from keras.preprocessing import sequence, text\n",
        "from keras.callbacks import EarlyStopping, Callback\n",
        "\n",
        "import pickle\n",
        "import matplotlib.pyplot as plt\n",
        "%matplotlib inline"
      ],
      "execution_count": 12,
      "outputs": []
    },
    {
      "cell_type": "code",
      "metadata": {
        "id": "Wby0iiM5abyo"
      },
      "source": [
        "dataset_train = pd.read_csv('/content/drive/MyDrive/HPC/NSE-TATAGLOBAL.csv')\n",
        "training_set = dataset_train.iloc[:, 1:2].values"
      ],
      "execution_count": 13,
      "outputs": []
    },
    {
      "cell_type": "code",
      "metadata": {
        "colab": {
          "base_uri": "https://localhost:8080/",
          "height": 195
        },
        "id": "eDd2YXTOaddG",
        "outputId": "8debb6e8-351f-456f-82d1-437c130ca8e6"
      },
      "source": [
        "dataset_train.head()"
      ],
      "execution_count": 14,
      "outputs": [
        {
          "output_type": "execute_result",
          "data": {
            "text/html": [
              "<div>\n",
              "<style scoped>\n",
              "    .dataframe tbody tr th:only-of-type {\n",
              "        vertical-align: middle;\n",
              "    }\n",
              "\n",
              "    .dataframe tbody tr th {\n",
              "        vertical-align: top;\n",
              "    }\n",
              "\n",
              "    .dataframe thead th {\n",
              "        text-align: right;\n",
              "    }\n",
              "</style>\n",
              "<table border=\"1\" class=\"dataframe\">\n",
              "  <thead>\n",
              "    <tr style=\"text-align: right;\">\n",
              "      <th></th>\n",
              "      <th>Date</th>\n",
              "      <th>Open</th>\n",
              "      <th>High</th>\n",
              "      <th>Low</th>\n",
              "      <th>Last</th>\n",
              "      <th>Close</th>\n",
              "      <th>Total Trade Quantity</th>\n",
              "      <th>Turnover (Lacs)</th>\n",
              "    </tr>\n",
              "  </thead>\n",
              "  <tbody>\n",
              "    <tr>\n",
              "      <th>0</th>\n",
              "      <td>2018-09-28</td>\n",
              "      <td>234.05</td>\n",
              "      <td>235.95</td>\n",
              "      <td>230.20</td>\n",
              "      <td>233.50</td>\n",
              "      <td>233.75</td>\n",
              "      <td>3069914</td>\n",
              "      <td>7162.35</td>\n",
              "    </tr>\n",
              "    <tr>\n",
              "      <th>1</th>\n",
              "      <td>2018-09-27</td>\n",
              "      <td>234.55</td>\n",
              "      <td>236.80</td>\n",
              "      <td>231.10</td>\n",
              "      <td>233.80</td>\n",
              "      <td>233.25</td>\n",
              "      <td>5082859</td>\n",
              "      <td>11859.95</td>\n",
              "    </tr>\n",
              "    <tr>\n",
              "      <th>2</th>\n",
              "      <td>2018-09-26</td>\n",
              "      <td>240.00</td>\n",
              "      <td>240.00</td>\n",
              "      <td>232.50</td>\n",
              "      <td>235.00</td>\n",
              "      <td>234.25</td>\n",
              "      <td>2240909</td>\n",
              "      <td>5248.60</td>\n",
              "    </tr>\n",
              "    <tr>\n",
              "      <th>3</th>\n",
              "      <td>2018-09-25</td>\n",
              "      <td>233.30</td>\n",
              "      <td>236.75</td>\n",
              "      <td>232.00</td>\n",
              "      <td>236.25</td>\n",
              "      <td>236.10</td>\n",
              "      <td>2349368</td>\n",
              "      <td>5503.90</td>\n",
              "    </tr>\n",
              "    <tr>\n",
              "      <th>4</th>\n",
              "      <td>2018-09-24</td>\n",
              "      <td>233.55</td>\n",
              "      <td>239.20</td>\n",
              "      <td>230.75</td>\n",
              "      <td>234.00</td>\n",
              "      <td>233.30</td>\n",
              "      <td>3423509</td>\n",
              "      <td>7999.55</td>\n",
              "    </tr>\n",
              "  </tbody>\n",
              "</table>\n",
              "</div>"
            ],
            "text/plain": [
              "         Date    Open    High  ...   Close  Total Trade Quantity  Turnover (Lacs)\n",
              "0  2018-09-28  234.05  235.95  ...  233.75               3069914          7162.35\n",
              "1  2018-09-27  234.55  236.80  ...  233.25               5082859         11859.95\n",
              "2  2018-09-26  240.00  240.00  ...  234.25               2240909          5248.60\n",
              "3  2018-09-25  233.30  236.75  ...  236.10               2349368          5503.90\n",
              "4  2018-09-24  233.55  239.20  ...  233.30               3423509          7999.55\n",
              "\n",
              "[5 rows x 8 columns]"
            ]
          },
          "metadata": {
            "tags": []
          },
          "execution_count": 14
        }
      ]
    },
    {
      "cell_type": "code",
      "metadata": {
        "colab": {
          "base_uri": "https://localhost:8080/"
        },
        "id": "1f1xGy0WaewM",
        "outputId": "8643a317-8423-40a1-cca0-a7d3a7a704a4"
      },
      "source": [
        "training_set"
      ],
      "execution_count": 15,
      "outputs": [
        {
          "output_type": "execute_result",
          "data": {
            "text/plain": [
              "array([[234.05],\n",
              "       [234.55],\n",
              "       [240.  ],\n",
              "       ...,\n",
              "       [121.8 ],\n",
              "       [120.3 ],\n",
              "       [122.1 ]])"
            ]
          },
          "metadata": {
            "tags": []
          },
          "execution_count": 15
        }
      ]
    },
    {
      "cell_type": "code",
      "metadata": {
        "colab": {
          "base_uri": "https://localhost:8080/"
        },
        "id": "9wlnGQZ1aib0",
        "outputId": "2c1c5c77-559c-4398-fbaf-0e19fa1ee8fa"
      },
      "source": [
        "training_set.shape"
      ],
      "execution_count": 16,
      "outputs": [
        {
          "output_type": "execute_result",
          "data": {
            "text/plain": [
              "(2035, 1)"
            ]
          },
          "metadata": {
            "tags": []
          },
          "execution_count": 16
        }
      ]
    },
    {
      "cell_type": "code",
      "metadata": {
        "id": "21W-h-whcKE1"
      },
      "source": [
        "training_set =  pd.DataFrame(training_set)"
      ],
      "execution_count": 17,
      "outputs": []
    },
    {
      "cell_type": "code",
      "metadata": {
        "colab": {
          "base_uri": "https://localhost:8080/",
          "height": 195
        },
        "id": "GUHSjH7tcP0X",
        "outputId": "70544fe9-c691-49a9-980a-75b8d9785318"
      },
      "source": [
        "training_set.head()"
      ],
      "execution_count": 18,
      "outputs": [
        {
          "output_type": "execute_result",
          "data": {
            "text/html": [
              "<div>\n",
              "<style scoped>\n",
              "    .dataframe tbody tr th:only-of-type {\n",
              "        vertical-align: middle;\n",
              "    }\n",
              "\n",
              "    .dataframe tbody tr th {\n",
              "        vertical-align: top;\n",
              "    }\n",
              "\n",
              "    .dataframe thead th {\n",
              "        text-align: right;\n",
              "    }\n",
              "</style>\n",
              "<table border=\"1\" class=\"dataframe\">\n",
              "  <thead>\n",
              "    <tr style=\"text-align: right;\">\n",
              "      <th></th>\n",
              "      <th>0</th>\n",
              "    </tr>\n",
              "  </thead>\n",
              "  <tbody>\n",
              "    <tr>\n",
              "      <th>0</th>\n",
              "      <td>234.05</td>\n",
              "    </tr>\n",
              "    <tr>\n",
              "      <th>1</th>\n",
              "      <td>234.55</td>\n",
              "    </tr>\n",
              "    <tr>\n",
              "      <th>2</th>\n",
              "      <td>240.00</td>\n",
              "    </tr>\n",
              "    <tr>\n",
              "      <th>3</th>\n",
              "      <td>233.30</td>\n",
              "    </tr>\n",
              "    <tr>\n",
              "      <th>4</th>\n",
              "      <td>233.55</td>\n",
              "    </tr>\n",
              "  </tbody>\n",
              "</table>\n",
              "</div>"
            ],
            "text/plain": [
              "        0\n",
              "0  234.05\n",
              "1  234.55\n",
              "2  240.00\n",
              "3  233.30\n",
              "4  233.55"
            ]
          },
          "metadata": {
            "tags": []
          },
          "execution_count": 18
        }
      ]
    },
    {
      "cell_type": "code",
      "metadata": {
        "id": "GJA0c9bgcSDM"
      },
      "source": [
        "# Feature Scaling\n",
        "from sklearn.preprocessing import MinMaxScaler\n",
        "sc = MinMaxScaler(feature_range = (0, 1))\n",
        "training_set_scaled = sc.fit_transform(training_set)"
      ],
      "execution_count": 19,
      "outputs": []
    },
    {
      "cell_type": "code",
      "metadata": {
        "id": "He251rvNcWD3"
      },
      "source": [
        "# Creating a data structure with 60 timesteps and 1 output\n",
        "X_train = []\n",
        "y_train = []\n",
        "for i in range(60, 2035):\n",
        "    X_train.append(training_set_scaled[i-60:i, 0])\n",
        "    y_train.append(training_set_scaled[i, 0])\n",
        "X_train, y_train = np.array(X_train), np.array(y_train)"
      ],
      "execution_count": 20,
      "outputs": []
    },
    {
      "cell_type": "code",
      "metadata": {
        "id": "v18Xs9AlcXqC"
      },
      "source": [
        "X_train = pd.DataFrame(X_train)\n",
        "y_train = pd.DataFrame(y_train)"
      ],
      "execution_count": 21,
      "outputs": []
    },
    {
      "cell_type": "code",
      "metadata": {
        "colab": {
          "base_uri": "https://localhost:8080/",
          "height": 195
        },
        "id": "XF2BkrX7cuzc",
        "outputId": "4075eb70-ecc8-4e51-d855-6a28d53e4d8d"
      },
      "source": [
        "y_train.head()"
      ],
      "execution_count": 22,
      "outputs": [
        {
          "output_type": "execute_result",
          "data": {
            "text/html": [
              "<div>\n",
              "<style scoped>\n",
              "    .dataframe tbody tr th:only-of-type {\n",
              "        vertical-align: middle;\n",
              "    }\n",
              "\n",
              "    .dataframe tbody tr th {\n",
              "        vertical-align: top;\n",
              "    }\n",
              "\n",
              "    .dataframe thead th {\n",
              "        text-align: right;\n",
              "    }\n",
              "</style>\n",
              "<table border=\"1\" class=\"dataframe\">\n",
              "  <thead>\n",
              "    <tr style=\"text-align: right;\">\n",
              "      <th></th>\n",
              "      <th>0</th>\n",
              "    </tr>\n",
              "  </thead>\n",
              "  <tbody>\n",
              "    <tr>\n",
              "      <th>0</th>\n",
              "      <td>0.770073</td>\n",
              "    </tr>\n",
              "    <tr>\n",
              "      <th>1</th>\n",
              "      <td>0.736415</td>\n",
              "    </tr>\n",
              "    <tr>\n",
              "      <th>2</th>\n",
              "      <td>0.737632</td>\n",
              "    </tr>\n",
              "    <tr>\n",
              "      <th>3</th>\n",
              "      <td>0.746148</td>\n",
              "    </tr>\n",
              "    <tr>\n",
              "      <th>4</th>\n",
              "      <td>0.744931</td>\n",
              "    </tr>\n",
              "  </tbody>\n",
              "</table>\n",
              "</div>"
            ],
            "text/plain": [
              "          0\n",
              "0  0.770073\n",
              "1  0.736415\n",
              "2  0.737632\n",
              "3  0.746148\n",
              "4  0.744931"
            ]
          },
          "metadata": {
            "tags": []
          },
          "execution_count": 22
        }
      ]
    },
    {
      "cell_type": "code",
      "metadata": {
        "colab": {
          "base_uri": "https://localhost:8080/",
          "height": 215
        },
        "id": "_DdkocywcwsL",
        "outputId": "aeaa3352-ee4d-4a87-9a32-9b126bd512a2"
      },
      "source": [
        "X_train.head()"
      ],
      "execution_count": 23,
      "outputs": [
        {
          "output_type": "execute_result",
          "data": {
            "text/html": [
              "<div>\n",
              "<style scoped>\n",
              "    .dataframe tbody tr th:only-of-type {\n",
              "        vertical-align: middle;\n",
              "    }\n",
              "\n",
              "    .dataframe tbody tr th {\n",
              "        vertical-align: top;\n",
              "    }\n",
              "\n",
              "    .dataframe thead th {\n",
              "        text-align: right;\n",
              "    }\n",
              "</style>\n",
              "<table border=\"1\" class=\"dataframe\">\n",
              "  <thead>\n",
              "    <tr style=\"text-align: right;\">\n",
              "      <th></th>\n",
              "      <th>0</th>\n",
              "      <th>1</th>\n",
              "      <th>2</th>\n",
              "      <th>3</th>\n",
              "      <th>4</th>\n",
              "      <th>5</th>\n",
              "      <th>6</th>\n",
              "      <th>7</th>\n",
              "      <th>8</th>\n",
              "      <th>9</th>\n",
              "      <th>10</th>\n",
              "      <th>11</th>\n",
              "      <th>12</th>\n",
              "      <th>13</th>\n",
              "      <th>14</th>\n",
              "      <th>15</th>\n",
              "      <th>16</th>\n",
              "      <th>17</th>\n",
              "      <th>18</th>\n",
              "      <th>19</th>\n",
              "      <th>20</th>\n",
              "      <th>21</th>\n",
              "      <th>22</th>\n",
              "      <th>23</th>\n",
              "      <th>24</th>\n",
              "      <th>25</th>\n",
              "      <th>26</th>\n",
              "      <th>27</th>\n",
              "      <th>28</th>\n",
              "      <th>29</th>\n",
              "      <th>30</th>\n",
              "      <th>31</th>\n",
              "      <th>32</th>\n",
              "      <th>33</th>\n",
              "      <th>34</th>\n",
              "      <th>35</th>\n",
              "      <th>36</th>\n",
              "      <th>37</th>\n",
              "      <th>38</th>\n",
              "      <th>39</th>\n",
              "      <th>40</th>\n",
              "      <th>41</th>\n",
              "      <th>42</th>\n",
              "      <th>43</th>\n",
              "      <th>44</th>\n",
              "      <th>45</th>\n",
              "      <th>46</th>\n",
              "      <th>47</th>\n",
              "      <th>48</th>\n",
              "      <th>49</th>\n",
              "      <th>50</th>\n",
              "      <th>51</th>\n",
              "      <th>52</th>\n",
              "      <th>53</th>\n",
              "      <th>54</th>\n",
              "      <th>55</th>\n",
              "      <th>56</th>\n",
              "      <th>57</th>\n",
              "      <th>58</th>\n",
              "      <th>59</th>\n",
              "    </tr>\n",
              "  </thead>\n",
              "  <tbody>\n",
              "    <tr>\n",
              "      <th>0</th>\n",
              "      <td>0.620235</td>\n",
              "      <td>0.622263</td>\n",
              "      <td>0.644363</td>\n",
              "      <td>0.617194</td>\n",
              "      <td>0.618208</td>\n",
              "      <td>0.624088</td>\n",
              "      <td>0.627940</td>\n",
              "      <td>0.635848</td>\n",
              "      <td>0.616586</td>\n",
              "      <td>0.577251</td>\n",
              "      <td>0.548459</td>\n",
              "      <td>0.573398</td>\n",
              "      <td>0.573398</td>\n",
              "      <td>0.567315</td>\n",
              "      <td>0.579481</td>\n",
              "      <td>0.571371</td>\n",
              "      <td>0.637064</td>\n",
              "      <td>0.628143</td>\n",
              "      <td>0.632198</td>\n",
              "      <td>0.625507</td>\n",
              "      <td>0.619424</td>\n",
              "      <td>0.632198</td>\n",
              "      <td>0.611111</td>\n",
              "      <td>0.622060</td>\n",
              "      <td>0.645580</td>\n",
              "      <td>0.672344</td>\n",
              "      <td>0.660584</td>\n",
              "      <td>0.647607</td>\n",
              "      <td>0.628345</td>\n",
              "      <td>0.624088</td>\n",
              "      <td>0.615977</td>\n",
              "      <td>0.633414</td>\n",
              "      <td>0.630779</td>\n",
              "      <td>0.633212</td>\n",
              "      <td>0.648418</td>\n",
              "      <td>0.624696</td>\n",
              "      <td>0.628143</td>\n",
              "      <td>0.613950</td>\n",
              "      <td>0.679643</td>\n",
              "      <td>0.658151</td>\n",
              "      <td>0.659367</td>\n",
              "      <td>0.648418</td>\n",
              "      <td>0.627737</td>\n",
              "      <td>0.678832</td>\n",
              "      <td>0.660584</td>\n",
              "      <td>0.639903</td>\n",
              "      <td>0.608881</td>\n",
              "      <td>0.643147</td>\n",
              "      <td>0.678427</td>\n",
              "      <td>0.650649</td>\n",
              "      <td>0.716951</td>\n",
              "      <td>0.745742</td>\n",
              "      <td>0.767640</td>\n",
              "      <td>0.785483</td>\n",
              "      <td>0.789943</td>\n",
              "      <td>0.758921</td>\n",
              "      <td>0.765207</td>\n",
              "      <td>0.796229</td>\n",
              "      <td>0.810624</td>\n",
              "      <td>0.743715</td>\n",
              "    </tr>\n",
              "    <tr>\n",
              "      <th>1</th>\n",
              "      <td>0.622263</td>\n",
              "      <td>0.644363</td>\n",
              "      <td>0.617194</td>\n",
              "      <td>0.618208</td>\n",
              "      <td>0.624088</td>\n",
              "      <td>0.627940</td>\n",
              "      <td>0.635848</td>\n",
              "      <td>0.616586</td>\n",
              "      <td>0.577251</td>\n",
              "      <td>0.548459</td>\n",
              "      <td>0.573398</td>\n",
              "      <td>0.573398</td>\n",
              "      <td>0.567315</td>\n",
              "      <td>0.579481</td>\n",
              "      <td>0.571371</td>\n",
              "      <td>0.637064</td>\n",
              "      <td>0.628143</td>\n",
              "      <td>0.632198</td>\n",
              "      <td>0.625507</td>\n",
              "      <td>0.619424</td>\n",
              "      <td>0.632198</td>\n",
              "      <td>0.611111</td>\n",
              "      <td>0.622060</td>\n",
              "      <td>0.645580</td>\n",
              "      <td>0.672344</td>\n",
              "      <td>0.660584</td>\n",
              "      <td>0.647607</td>\n",
              "      <td>0.628345</td>\n",
              "      <td>0.624088</td>\n",
              "      <td>0.615977</td>\n",
              "      <td>0.633414</td>\n",
              "      <td>0.630779</td>\n",
              "      <td>0.633212</td>\n",
              "      <td>0.648418</td>\n",
              "      <td>0.624696</td>\n",
              "      <td>0.628143</td>\n",
              "      <td>0.613950</td>\n",
              "      <td>0.679643</td>\n",
              "      <td>0.658151</td>\n",
              "      <td>0.659367</td>\n",
              "      <td>0.648418</td>\n",
              "      <td>0.627737</td>\n",
              "      <td>0.678832</td>\n",
              "      <td>0.660584</td>\n",
              "      <td>0.639903</td>\n",
              "      <td>0.608881</td>\n",
              "      <td>0.643147</td>\n",
              "      <td>0.678427</td>\n",
              "      <td>0.650649</td>\n",
              "      <td>0.716951</td>\n",
              "      <td>0.745742</td>\n",
              "      <td>0.767640</td>\n",
              "      <td>0.785483</td>\n",
              "      <td>0.789943</td>\n",
              "      <td>0.758921</td>\n",
              "      <td>0.765207</td>\n",
              "      <td>0.796229</td>\n",
              "      <td>0.810624</td>\n",
              "      <td>0.743715</td>\n",
              "      <td>0.770073</td>\n",
              "    </tr>\n",
              "    <tr>\n",
              "      <th>2</th>\n",
              "      <td>0.644363</td>\n",
              "      <td>0.617194</td>\n",
              "      <td>0.618208</td>\n",
              "      <td>0.624088</td>\n",
              "      <td>0.627940</td>\n",
              "      <td>0.635848</td>\n",
              "      <td>0.616586</td>\n",
              "      <td>0.577251</td>\n",
              "      <td>0.548459</td>\n",
              "      <td>0.573398</td>\n",
              "      <td>0.573398</td>\n",
              "      <td>0.567315</td>\n",
              "      <td>0.579481</td>\n",
              "      <td>0.571371</td>\n",
              "      <td>0.637064</td>\n",
              "      <td>0.628143</td>\n",
              "      <td>0.632198</td>\n",
              "      <td>0.625507</td>\n",
              "      <td>0.619424</td>\n",
              "      <td>0.632198</td>\n",
              "      <td>0.611111</td>\n",
              "      <td>0.622060</td>\n",
              "      <td>0.645580</td>\n",
              "      <td>0.672344</td>\n",
              "      <td>0.660584</td>\n",
              "      <td>0.647607</td>\n",
              "      <td>0.628345</td>\n",
              "      <td>0.624088</td>\n",
              "      <td>0.615977</td>\n",
              "      <td>0.633414</td>\n",
              "      <td>0.630779</td>\n",
              "      <td>0.633212</td>\n",
              "      <td>0.648418</td>\n",
              "      <td>0.624696</td>\n",
              "      <td>0.628143</td>\n",
              "      <td>0.613950</td>\n",
              "      <td>0.679643</td>\n",
              "      <td>0.658151</td>\n",
              "      <td>0.659367</td>\n",
              "      <td>0.648418</td>\n",
              "      <td>0.627737</td>\n",
              "      <td>0.678832</td>\n",
              "      <td>0.660584</td>\n",
              "      <td>0.639903</td>\n",
              "      <td>0.608881</td>\n",
              "      <td>0.643147</td>\n",
              "      <td>0.678427</td>\n",
              "      <td>0.650649</td>\n",
              "      <td>0.716951</td>\n",
              "      <td>0.745742</td>\n",
              "      <td>0.767640</td>\n",
              "      <td>0.785483</td>\n",
              "      <td>0.789943</td>\n",
              "      <td>0.758921</td>\n",
              "      <td>0.765207</td>\n",
              "      <td>0.796229</td>\n",
              "      <td>0.810624</td>\n",
              "      <td>0.743715</td>\n",
              "      <td>0.770073</td>\n",
              "      <td>0.736415</td>\n",
              "    </tr>\n",
              "    <tr>\n",
              "      <th>3</th>\n",
              "      <td>0.617194</td>\n",
              "      <td>0.618208</td>\n",
              "      <td>0.624088</td>\n",
              "      <td>0.627940</td>\n",
              "      <td>0.635848</td>\n",
              "      <td>0.616586</td>\n",
              "      <td>0.577251</td>\n",
              "      <td>0.548459</td>\n",
              "      <td>0.573398</td>\n",
              "      <td>0.573398</td>\n",
              "      <td>0.567315</td>\n",
              "      <td>0.579481</td>\n",
              "      <td>0.571371</td>\n",
              "      <td>0.637064</td>\n",
              "      <td>0.628143</td>\n",
              "      <td>0.632198</td>\n",
              "      <td>0.625507</td>\n",
              "      <td>0.619424</td>\n",
              "      <td>0.632198</td>\n",
              "      <td>0.611111</td>\n",
              "      <td>0.622060</td>\n",
              "      <td>0.645580</td>\n",
              "      <td>0.672344</td>\n",
              "      <td>0.660584</td>\n",
              "      <td>0.647607</td>\n",
              "      <td>0.628345</td>\n",
              "      <td>0.624088</td>\n",
              "      <td>0.615977</td>\n",
              "      <td>0.633414</td>\n",
              "      <td>0.630779</td>\n",
              "      <td>0.633212</td>\n",
              "      <td>0.648418</td>\n",
              "      <td>0.624696</td>\n",
              "      <td>0.628143</td>\n",
              "      <td>0.613950</td>\n",
              "      <td>0.679643</td>\n",
              "      <td>0.658151</td>\n",
              "      <td>0.659367</td>\n",
              "      <td>0.648418</td>\n",
              "      <td>0.627737</td>\n",
              "      <td>0.678832</td>\n",
              "      <td>0.660584</td>\n",
              "      <td>0.639903</td>\n",
              "      <td>0.608881</td>\n",
              "      <td>0.643147</td>\n",
              "      <td>0.678427</td>\n",
              "      <td>0.650649</td>\n",
              "      <td>0.716951</td>\n",
              "      <td>0.745742</td>\n",
              "      <td>0.767640</td>\n",
              "      <td>0.785483</td>\n",
              "      <td>0.789943</td>\n",
              "      <td>0.758921</td>\n",
              "      <td>0.765207</td>\n",
              "      <td>0.796229</td>\n",
              "      <td>0.810624</td>\n",
              "      <td>0.743715</td>\n",
              "      <td>0.770073</td>\n",
              "      <td>0.736415</td>\n",
              "      <td>0.737632</td>\n",
              "    </tr>\n",
              "    <tr>\n",
              "      <th>4</th>\n",
              "      <td>0.618208</td>\n",
              "      <td>0.624088</td>\n",
              "      <td>0.627940</td>\n",
              "      <td>0.635848</td>\n",
              "      <td>0.616586</td>\n",
              "      <td>0.577251</td>\n",
              "      <td>0.548459</td>\n",
              "      <td>0.573398</td>\n",
              "      <td>0.573398</td>\n",
              "      <td>0.567315</td>\n",
              "      <td>0.579481</td>\n",
              "      <td>0.571371</td>\n",
              "      <td>0.637064</td>\n",
              "      <td>0.628143</td>\n",
              "      <td>0.632198</td>\n",
              "      <td>0.625507</td>\n",
              "      <td>0.619424</td>\n",
              "      <td>0.632198</td>\n",
              "      <td>0.611111</td>\n",
              "      <td>0.622060</td>\n",
              "      <td>0.645580</td>\n",
              "      <td>0.672344</td>\n",
              "      <td>0.660584</td>\n",
              "      <td>0.647607</td>\n",
              "      <td>0.628345</td>\n",
              "      <td>0.624088</td>\n",
              "      <td>0.615977</td>\n",
              "      <td>0.633414</td>\n",
              "      <td>0.630779</td>\n",
              "      <td>0.633212</td>\n",
              "      <td>0.648418</td>\n",
              "      <td>0.624696</td>\n",
              "      <td>0.628143</td>\n",
              "      <td>0.613950</td>\n",
              "      <td>0.679643</td>\n",
              "      <td>0.658151</td>\n",
              "      <td>0.659367</td>\n",
              "      <td>0.648418</td>\n",
              "      <td>0.627737</td>\n",
              "      <td>0.678832</td>\n",
              "      <td>0.660584</td>\n",
              "      <td>0.639903</td>\n",
              "      <td>0.608881</td>\n",
              "      <td>0.643147</td>\n",
              "      <td>0.678427</td>\n",
              "      <td>0.650649</td>\n",
              "      <td>0.716951</td>\n",
              "      <td>0.745742</td>\n",
              "      <td>0.767640</td>\n",
              "      <td>0.785483</td>\n",
              "      <td>0.789943</td>\n",
              "      <td>0.758921</td>\n",
              "      <td>0.765207</td>\n",
              "      <td>0.796229</td>\n",
              "      <td>0.810624</td>\n",
              "      <td>0.743715</td>\n",
              "      <td>0.770073</td>\n",
              "      <td>0.736415</td>\n",
              "      <td>0.737632</td>\n",
              "      <td>0.746148</td>\n",
              "    </tr>\n",
              "  </tbody>\n",
              "</table>\n",
              "</div>"
            ],
            "text/plain": [
              "         0         1         2   ...        57        58        59\n",
              "0  0.620235  0.622263  0.644363  ...  0.796229  0.810624  0.743715\n",
              "1  0.622263  0.644363  0.617194  ...  0.810624  0.743715  0.770073\n",
              "2  0.644363  0.617194  0.618208  ...  0.743715  0.770073  0.736415\n",
              "3  0.617194  0.618208  0.624088  ...  0.770073  0.736415  0.737632\n",
              "4  0.618208  0.624088  0.627940  ...  0.736415  0.737632  0.746148\n",
              "\n",
              "[5 rows x 60 columns]"
            ]
          },
          "metadata": {
            "tags": []
          },
          "execution_count": 23
        }
      ]
    },
    {
      "cell_type": "code",
      "metadata": {
        "id": "c9uWRtikcyz_"
      },
      "source": [
        "# Part 3 - Making the predictions and visualising the results\n",
        "\n",
        "# Getting the real stock price of 2017\n",
        "dataset_test = pd.read_csv('/content/drive/MyDrive/HPC/tatatest.csv')\n",
        "real_stock_price = dataset_test.iloc[:, 1:2].values"
      ],
      "execution_count": 24,
      "outputs": []
    },
    {
      "cell_type": "code",
      "metadata": {
        "id": "TKWWmhTec2h5"
      },
      "source": [
        "# Getting the predicted stock price of 2017\n",
        "dataset_total = pd.concat((dataset_train['Open'], dataset_test['Open']), axis = 0)\n",
        "inputs = dataset_total[len(dataset_total) - len(dataset_test) - 60:].values\n",
        "inputs = inputs.reshape(-1,1)\n",
        "inputs = sc.transform(inputs)\n",
        "X_test = []\n",
        "for i in range(60, 76):\n",
        "    X_test.append(inputs[i-60:i, 0])\n",
        "X_test = np.array(X_test)\n",
        "# X_test = np.reshape(X_test, (X_test.shape[0], X_test.shape[1], 1))\n"
      ],
      "execution_count": 25,
      "outputs": []
    },
    {
      "cell_type": "code",
      "metadata": {
        "id": "QE3fqJuC4XUq"
      },
      "source": [
        "real_stock_price = sc.fit_transform(real_stock_price)"
      ],
      "execution_count": 26,
      "outputs": []
    },
    {
      "cell_type": "code",
      "metadata": {
        "id": "OW22LvzAc4Wn"
      },
      "source": [
        "X_test = pd.DataFrame(X_test)"
      ],
      "execution_count": 27,
      "outputs": []
    },
    {
      "cell_type": "code",
      "metadata": {
        "colab": {
          "base_uri": "https://localhost:8080/",
          "height": 215
        },
        "id": "GPcNeTDbdAOQ",
        "outputId": "3c1afd4c-16fb-454b-f761-8b76769ccc83"
      },
      "source": [
        "X_test.head()"
      ],
      "execution_count": 28,
      "outputs": [
        {
          "output_type": "execute_result",
          "data": {
            "text/html": [
              "<div>\n",
              "<style scoped>\n",
              "    .dataframe tbody tr th:only-of-type {\n",
              "        vertical-align: middle;\n",
              "    }\n",
              "\n",
              "    .dataframe tbody tr th {\n",
              "        vertical-align: top;\n",
              "    }\n",
              "\n",
              "    .dataframe thead th {\n",
              "        text-align: right;\n",
              "    }\n",
              "</style>\n",
              "<table border=\"1\" class=\"dataframe\">\n",
              "  <thead>\n",
              "    <tr style=\"text-align: right;\">\n",
              "      <th></th>\n",
              "      <th>0</th>\n",
              "      <th>1</th>\n",
              "      <th>2</th>\n",
              "      <th>3</th>\n",
              "      <th>4</th>\n",
              "      <th>5</th>\n",
              "      <th>6</th>\n",
              "      <th>7</th>\n",
              "      <th>8</th>\n",
              "      <th>9</th>\n",
              "      <th>10</th>\n",
              "      <th>11</th>\n",
              "      <th>12</th>\n",
              "      <th>13</th>\n",
              "      <th>14</th>\n",
              "      <th>15</th>\n",
              "      <th>16</th>\n",
              "      <th>17</th>\n",
              "      <th>18</th>\n",
              "      <th>19</th>\n",
              "      <th>20</th>\n",
              "      <th>21</th>\n",
              "      <th>22</th>\n",
              "      <th>23</th>\n",
              "      <th>24</th>\n",
              "      <th>25</th>\n",
              "      <th>26</th>\n",
              "      <th>27</th>\n",
              "      <th>28</th>\n",
              "      <th>29</th>\n",
              "      <th>30</th>\n",
              "      <th>31</th>\n",
              "      <th>32</th>\n",
              "      <th>33</th>\n",
              "      <th>34</th>\n",
              "      <th>35</th>\n",
              "      <th>36</th>\n",
              "      <th>37</th>\n",
              "      <th>38</th>\n",
              "      <th>39</th>\n",
              "      <th>40</th>\n",
              "      <th>41</th>\n",
              "      <th>42</th>\n",
              "      <th>43</th>\n",
              "      <th>44</th>\n",
              "      <th>45</th>\n",
              "      <th>46</th>\n",
              "      <th>47</th>\n",
              "      <th>48</th>\n",
              "      <th>49</th>\n",
              "      <th>50</th>\n",
              "      <th>51</th>\n",
              "      <th>52</th>\n",
              "      <th>53</th>\n",
              "      <th>54</th>\n",
              "      <th>55</th>\n",
              "      <th>56</th>\n",
              "      <th>57</th>\n",
              "      <th>58</th>\n",
              "      <th>59</th>\n",
              "    </tr>\n",
              "  </thead>\n",
              "  <tbody>\n",
              "    <tr>\n",
              "      <th>0</th>\n",
              "      <td>0.206002</td>\n",
              "      <td>0.216545</td>\n",
              "      <td>0.216545</td>\n",
              "      <td>0.217559</td>\n",
              "      <td>0.198702</td>\n",
              "      <td>0.190187</td>\n",
              "      <td>0.178021</td>\n",
              "      <td>0.175588</td>\n",
              "      <td>0.163017</td>\n",
              "      <td>0.167072</td>\n",
              "      <td>0.171127</td>\n",
              "      <td>0.176399</td>\n",
              "      <td>0.183496</td>\n",
              "      <td>0.171736</td>\n",
              "      <td>0.164234</td>\n",
              "      <td>0.169911</td>\n",
              "      <td>0.176196</td>\n",
              "      <td>0.167883</td>\n",
              "      <td>0.169100</td>\n",
              "      <td>0.173966</td>\n",
              "      <td>0.177413</td>\n",
              "      <td>0.182685</td>\n",
              "      <td>0.192214</td>\n",
              "      <td>0.188970</td>\n",
              "      <td>0.190187</td>\n",
              "      <td>0.173966</td>\n",
              "      <td>0.170925</td>\n",
              "      <td>0.167883</td>\n",
              "      <td>0.174777</td>\n",
              "      <td>0.164436</td>\n",
              "      <td>0.145580</td>\n",
              "      <td>0.152879</td>\n",
              "      <td>0.153690</td>\n",
              "      <td>0.150446</td>\n",
              "      <td>0.141525</td>\n",
              "      <td>0.151460</td>\n",
              "      <td>0.133414</td>\n",
              "      <td>0.125304</td>\n",
              "      <td>0.117194</td>\n",
              "      <td>0.117802</td>\n",
              "      <td>0.124899</td>\n",
              "      <td>0.141322</td>\n",
              "      <td>0.130981</td>\n",
              "      <td>0.129359</td>\n",
              "      <td>0.132401</td>\n",
              "      <td>0.128954</td>\n",
              "      <td>0.125304</td>\n",
              "      <td>0.133820</td>\n",
              "      <td>0.145580</td>\n",
              "      <td>0.151663</td>\n",
              "      <td>0.150852</td>\n",
              "      <td>0.146796</td>\n",
              "      <td>0.143552</td>\n",
              "      <td>0.127332</td>\n",
              "      <td>0.149635</td>\n",
              "      <td>0.148013</td>\n",
              "      <td>0.158151</td>\n",
              "      <td>0.165045</td>\n",
              "      <td>0.158962</td>\n",
              "      <td>0.166261</td>\n",
              "    </tr>\n",
              "    <tr>\n",
              "      <th>1</th>\n",
              "      <td>0.216545</td>\n",
              "      <td>0.216545</td>\n",
              "      <td>0.217559</td>\n",
              "      <td>0.198702</td>\n",
              "      <td>0.190187</td>\n",
              "      <td>0.178021</td>\n",
              "      <td>0.175588</td>\n",
              "      <td>0.163017</td>\n",
              "      <td>0.167072</td>\n",
              "      <td>0.171127</td>\n",
              "      <td>0.176399</td>\n",
              "      <td>0.183496</td>\n",
              "      <td>0.171736</td>\n",
              "      <td>0.164234</td>\n",
              "      <td>0.169911</td>\n",
              "      <td>0.176196</td>\n",
              "      <td>0.167883</td>\n",
              "      <td>0.169100</td>\n",
              "      <td>0.173966</td>\n",
              "      <td>0.177413</td>\n",
              "      <td>0.182685</td>\n",
              "      <td>0.192214</td>\n",
              "      <td>0.188970</td>\n",
              "      <td>0.190187</td>\n",
              "      <td>0.173966</td>\n",
              "      <td>0.170925</td>\n",
              "      <td>0.167883</td>\n",
              "      <td>0.174777</td>\n",
              "      <td>0.164436</td>\n",
              "      <td>0.145580</td>\n",
              "      <td>0.152879</td>\n",
              "      <td>0.153690</td>\n",
              "      <td>0.150446</td>\n",
              "      <td>0.141525</td>\n",
              "      <td>0.151460</td>\n",
              "      <td>0.133414</td>\n",
              "      <td>0.125304</td>\n",
              "      <td>0.117194</td>\n",
              "      <td>0.117802</td>\n",
              "      <td>0.124899</td>\n",
              "      <td>0.141322</td>\n",
              "      <td>0.130981</td>\n",
              "      <td>0.129359</td>\n",
              "      <td>0.132401</td>\n",
              "      <td>0.128954</td>\n",
              "      <td>0.125304</td>\n",
              "      <td>0.133820</td>\n",
              "      <td>0.145580</td>\n",
              "      <td>0.151663</td>\n",
              "      <td>0.150852</td>\n",
              "      <td>0.146796</td>\n",
              "      <td>0.143552</td>\n",
              "      <td>0.127332</td>\n",
              "      <td>0.149635</td>\n",
              "      <td>0.148013</td>\n",
              "      <td>0.158151</td>\n",
              "      <td>0.165045</td>\n",
              "      <td>0.158962</td>\n",
              "      <td>0.166261</td>\n",
              "      <td>0.563666</td>\n",
              "    </tr>\n",
              "    <tr>\n",
              "      <th>2</th>\n",
              "      <td>0.216545</td>\n",
              "      <td>0.217559</td>\n",
              "      <td>0.198702</td>\n",
              "      <td>0.190187</td>\n",
              "      <td>0.178021</td>\n",
              "      <td>0.175588</td>\n",
              "      <td>0.163017</td>\n",
              "      <td>0.167072</td>\n",
              "      <td>0.171127</td>\n",
              "      <td>0.176399</td>\n",
              "      <td>0.183496</td>\n",
              "      <td>0.171736</td>\n",
              "      <td>0.164234</td>\n",
              "      <td>0.169911</td>\n",
              "      <td>0.176196</td>\n",
              "      <td>0.167883</td>\n",
              "      <td>0.169100</td>\n",
              "      <td>0.173966</td>\n",
              "      <td>0.177413</td>\n",
              "      <td>0.182685</td>\n",
              "      <td>0.192214</td>\n",
              "      <td>0.188970</td>\n",
              "      <td>0.190187</td>\n",
              "      <td>0.173966</td>\n",
              "      <td>0.170925</td>\n",
              "      <td>0.167883</td>\n",
              "      <td>0.174777</td>\n",
              "      <td>0.164436</td>\n",
              "      <td>0.145580</td>\n",
              "      <td>0.152879</td>\n",
              "      <td>0.153690</td>\n",
              "      <td>0.150446</td>\n",
              "      <td>0.141525</td>\n",
              "      <td>0.151460</td>\n",
              "      <td>0.133414</td>\n",
              "      <td>0.125304</td>\n",
              "      <td>0.117194</td>\n",
              "      <td>0.117802</td>\n",
              "      <td>0.124899</td>\n",
              "      <td>0.141322</td>\n",
              "      <td>0.130981</td>\n",
              "      <td>0.129359</td>\n",
              "      <td>0.132401</td>\n",
              "      <td>0.128954</td>\n",
              "      <td>0.125304</td>\n",
              "      <td>0.133820</td>\n",
              "      <td>0.145580</td>\n",
              "      <td>0.151663</td>\n",
              "      <td>0.150852</td>\n",
              "      <td>0.146796</td>\n",
              "      <td>0.143552</td>\n",
              "      <td>0.127332</td>\n",
              "      <td>0.149635</td>\n",
              "      <td>0.148013</td>\n",
              "      <td>0.158151</td>\n",
              "      <td>0.165045</td>\n",
              "      <td>0.158962</td>\n",
              "      <td>0.166261</td>\n",
              "      <td>0.563666</td>\n",
              "      <td>0.567721</td>\n",
              "    </tr>\n",
              "    <tr>\n",
              "      <th>3</th>\n",
              "      <td>0.217559</td>\n",
              "      <td>0.198702</td>\n",
              "      <td>0.190187</td>\n",
              "      <td>0.178021</td>\n",
              "      <td>0.175588</td>\n",
              "      <td>0.163017</td>\n",
              "      <td>0.167072</td>\n",
              "      <td>0.171127</td>\n",
              "      <td>0.176399</td>\n",
              "      <td>0.183496</td>\n",
              "      <td>0.171736</td>\n",
              "      <td>0.164234</td>\n",
              "      <td>0.169911</td>\n",
              "      <td>0.176196</td>\n",
              "      <td>0.167883</td>\n",
              "      <td>0.169100</td>\n",
              "      <td>0.173966</td>\n",
              "      <td>0.177413</td>\n",
              "      <td>0.182685</td>\n",
              "      <td>0.192214</td>\n",
              "      <td>0.188970</td>\n",
              "      <td>0.190187</td>\n",
              "      <td>0.173966</td>\n",
              "      <td>0.170925</td>\n",
              "      <td>0.167883</td>\n",
              "      <td>0.174777</td>\n",
              "      <td>0.164436</td>\n",
              "      <td>0.145580</td>\n",
              "      <td>0.152879</td>\n",
              "      <td>0.153690</td>\n",
              "      <td>0.150446</td>\n",
              "      <td>0.141525</td>\n",
              "      <td>0.151460</td>\n",
              "      <td>0.133414</td>\n",
              "      <td>0.125304</td>\n",
              "      <td>0.117194</td>\n",
              "      <td>0.117802</td>\n",
              "      <td>0.124899</td>\n",
              "      <td>0.141322</td>\n",
              "      <td>0.130981</td>\n",
              "      <td>0.129359</td>\n",
              "      <td>0.132401</td>\n",
              "      <td>0.128954</td>\n",
              "      <td>0.125304</td>\n",
              "      <td>0.133820</td>\n",
              "      <td>0.145580</td>\n",
              "      <td>0.151663</td>\n",
              "      <td>0.150852</td>\n",
              "      <td>0.146796</td>\n",
              "      <td>0.143552</td>\n",
              "      <td>0.127332</td>\n",
              "      <td>0.149635</td>\n",
              "      <td>0.148013</td>\n",
              "      <td>0.158151</td>\n",
              "      <td>0.165045</td>\n",
              "      <td>0.158962</td>\n",
              "      <td>0.166261</td>\n",
              "      <td>0.563666</td>\n",
              "      <td>0.567721</td>\n",
              "      <td>0.601582</td>\n",
              "    </tr>\n",
              "    <tr>\n",
              "      <th>4</th>\n",
              "      <td>0.198702</td>\n",
              "      <td>0.190187</td>\n",
              "      <td>0.178021</td>\n",
              "      <td>0.175588</td>\n",
              "      <td>0.163017</td>\n",
              "      <td>0.167072</td>\n",
              "      <td>0.171127</td>\n",
              "      <td>0.176399</td>\n",
              "      <td>0.183496</td>\n",
              "      <td>0.171736</td>\n",
              "      <td>0.164234</td>\n",
              "      <td>0.169911</td>\n",
              "      <td>0.176196</td>\n",
              "      <td>0.167883</td>\n",
              "      <td>0.169100</td>\n",
              "      <td>0.173966</td>\n",
              "      <td>0.177413</td>\n",
              "      <td>0.182685</td>\n",
              "      <td>0.192214</td>\n",
              "      <td>0.188970</td>\n",
              "      <td>0.190187</td>\n",
              "      <td>0.173966</td>\n",
              "      <td>0.170925</td>\n",
              "      <td>0.167883</td>\n",
              "      <td>0.174777</td>\n",
              "      <td>0.164436</td>\n",
              "      <td>0.145580</td>\n",
              "      <td>0.152879</td>\n",
              "      <td>0.153690</td>\n",
              "      <td>0.150446</td>\n",
              "      <td>0.141525</td>\n",
              "      <td>0.151460</td>\n",
              "      <td>0.133414</td>\n",
              "      <td>0.125304</td>\n",
              "      <td>0.117194</td>\n",
              "      <td>0.117802</td>\n",
              "      <td>0.124899</td>\n",
              "      <td>0.141322</td>\n",
              "      <td>0.130981</td>\n",
              "      <td>0.129359</td>\n",
              "      <td>0.132401</td>\n",
              "      <td>0.128954</td>\n",
              "      <td>0.125304</td>\n",
              "      <td>0.133820</td>\n",
              "      <td>0.145580</td>\n",
              "      <td>0.151663</td>\n",
              "      <td>0.150852</td>\n",
              "      <td>0.146796</td>\n",
              "      <td>0.143552</td>\n",
              "      <td>0.127332</td>\n",
              "      <td>0.149635</td>\n",
              "      <td>0.148013</td>\n",
              "      <td>0.158151</td>\n",
              "      <td>0.165045</td>\n",
              "      <td>0.158962</td>\n",
              "      <td>0.166261</td>\n",
              "      <td>0.563666</td>\n",
              "      <td>0.567721</td>\n",
              "      <td>0.601582</td>\n",
              "      <td>0.605028</td>\n",
              "    </tr>\n",
              "  </tbody>\n",
              "</table>\n",
              "</div>"
            ],
            "text/plain": [
              "         0         1         2   ...        57        58        59\n",
              "0  0.206002  0.216545  0.216545  ...  0.165045  0.158962  0.166261\n",
              "1  0.216545  0.216545  0.217559  ...  0.158962  0.166261  0.563666\n",
              "2  0.216545  0.217559  0.198702  ...  0.166261  0.563666  0.567721\n",
              "3  0.217559  0.198702  0.190187  ...  0.563666  0.567721  0.601582\n",
              "4  0.198702  0.190187  0.178021  ...  0.567721  0.601582  0.605028\n",
              "\n",
              "[5 rows x 60 columns]"
            ]
          },
          "metadata": {
            "tags": []
          },
          "execution_count": 28
        }
      ]
    },
    {
      "cell_type": "code",
      "metadata": {
        "id": "6140iTXn0Zro"
      },
      "source": [
        "y_test =  pd.DataFrame(real_stock_price)"
      ],
      "execution_count": 29,
      "outputs": []
    },
    {
      "cell_type": "code",
      "metadata": {
        "id": "h6oxL2M4dBsy"
      },
      "source": [
        "reg = LinearRegression()"
      ],
      "execution_count": 30,
      "outputs": []
    },
    {
      "cell_type": "code",
      "metadata": {
        "colab": {
          "base_uri": "https://localhost:8080/"
        },
        "id": "bIVXToH5dmLY",
        "outputId": "57ce595b-61e0-4051-86b8-f539635ef368"
      },
      "source": [
        "reg.fit(X_train, y_train)"
      ],
      "execution_count": 31,
      "outputs": [
        {
          "output_type": "execute_result",
          "data": {
            "text/plain": [
              "LinearRegression(copy_X=True, fit_intercept=True, n_jobs=None, normalize=False)"
            ]
          },
          "metadata": {
            "tags": []
          },
          "execution_count": 31
        }
      ]
    },
    {
      "cell_type": "code",
      "metadata": {
        "colab": {
          "base_uri": "https://localhost:8080/"
        },
        "id": "HSMjI0hKdnxQ",
        "outputId": "e83155ac-73ce-4338-82ae-d2bd093ba205"
      },
      "source": [
        "reg.score(X_train, y_train)"
      ],
      "execution_count": 32,
      "outputs": [
        {
          "output_type": "execute_result",
          "data": {
            "text/plain": [
              "0.9948181326993625"
            ]
          },
          "metadata": {
            "tags": []
          },
          "execution_count": 32
        }
      ]
    },
    {
      "cell_type": "code",
      "metadata": {
        "id": "o4wALhgufLWw"
      },
      "source": [
        "import numpy as np\n",
        "from sklearn import linear_model\n",
        "from sklearn import svm"
      ],
      "execution_count": 33,
      "outputs": []
    },
    {
      "cell_type": "code",
      "metadata": {
        "colab": {
          "base_uri": "https://localhost:8080/"
        },
        "id": "2HoTKF4geo3H",
        "outputId": "bf5b2146-fbee-4812-8f50-1564124db2d3"
      },
      "source": [
        "SGD_Regressor = linear_model.SGDRegressor()\n",
        "SGD_Regressor.fit(X_train, y_train)"
      ],
      "execution_count": 34,
      "outputs": [
        {
          "output_type": "stream",
          "text": [
            "/usr/local/lib/python3.7/dist-packages/sklearn/utils/validation.py:760: DataConversionWarning: A column-vector y was passed when a 1d array was expected. Please change the shape of y to (n_samples, ), for example using ravel().\n",
            "  y = column_or_1d(y, warn=True)\n"
          ],
          "name": "stderr"
        },
        {
          "output_type": "execute_result",
          "data": {
            "text/plain": [
              "SGDRegressor(alpha=0.0001, average=False, early_stopping=False, epsilon=0.1,\n",
              "             eta0=0.01, fit_intercept=True, l1_ratio=0.15,\n",
              "             learning_rate='invscaling', loss='squared_loss', max_iter=1000,\n",
              "             n_iter_no_change=5, penalty='l2', power_t=0.25, random_state=None,\n",
              "             shuffle=True, tol=0.001, validation_fraction=0.1, verbose=0,\n",
              "             warm_start=False)"
            ]
          },
          "metadata": {
            "tags": []
          },
          "execution_count": 34
        }
      ]
    },
    {
      "cell_type": "code",
      "metadata": {
        "colab": {
          "base_uri": "https://localhost:8080/"
        },
        "id": "libLEm1Jeznz",
        "outputId": "cdb07dcc-29e3-4e5d-9f4e-81e9e5729a00"
      },
      "source": [
        "SGD_Regressor.score(X_train, y_train)"
      ],
      "execution_count": 35,
      "outputs": [
        {
          "output_type": "execute_result",
          "data": {
            "text/plain": [
              "0.9600352354654871"
            ]
          },
          "metadata": {
            "tags": []
          },
          "execution_count": 35
        }
      ]
    },
    {
      "cell_type": "code",
      "metadata": {
        "colab": {
          "base_uri": "https://localhost:8080/"
        },
        "id": "fyfGoCdbfsqz",
        "outputId": "61c4f851-86f0-4cc4-91a4-f355f5d2a436"
      },
      "source": [
        "Bayesian_Ridge = linear_model.BayesianRidge()\n",
        "Bayesian_Ridge.fit(X_train, y_train)"
      ],
      "execution_count": 36,
      "outputs": [
        {
          "output_type": "stream",
          "text": [
            "/usr/local/lib/python3.7/dist-packages/sklearn/utils/validation.py:760: DataConversionWarning: A column-vector y was passed when a 1d array was expected. Please change the shape of y to (n_samples, ), for example using ravel().\n",
            "  y = column_or_1d(y, warn=True)\n"
          ],
          "name": "stderr"
        },
        {
          "output_type": "execute_result",
          "data": {
            "text/plain": [
              "BayesianRidge(alpha_1=1e-06, alpha_2=1e-06, alpha_init=None,\n",
              "              compute_score=False, copy_X=True, fit_intercept=True,\n",
              "              lambda_1=1e-06, lambda_2=1e-06, lambda_init=None, n_iter=300,\n",
              "              normalize=False, tol=0.001, verbose=False)"
            ]
          },
          "metadata": {
            "tags": []
          },
          "execution_count": 36
        }
      ]
    },
    {
      "cell_type": "code",
      "metadata": {
        "colab": {
          "base_uri": "https://localhost:8080/"
        },
        "id": "4zak_Tncf5-D",
        "outputId": "d0d0a64f-532d-4bc2-dc27-6dc6972785c2"
      },
      "source": [
        "Bayesian_Ridge.score(X_train, y_train)"
      ],
      "execution_count": 37,
      "outputs": [
        {
          "output_type": "execute_result",
          "data": {
            "text/plain": [
              "0.9948129269374403"
            ]
          },
          "metadata": {
            "tags": []
          },
          "execution_count": 37
        }
      ]
    },
    {
      "cell_type": "code",
      "metadata": {
        "colab": {
          "base_uri": "https://localhost:8080/"
        },
        "id": "8qpoVls2f9CW",
        "outputId": "734c2dbb-d00b-4fe4-d35a-0826d58c8d2d"
      },
      "source": [
        "Lasso_Lars = linear_model.LassoLars()\n",
        "Lasso_Lars.fit(X_train, y_train)"
      ],
      "execution_count": 38,
      "outputs": [
        {
          "output_type": "execute_result",
          "data": {
            "text/plain": [
              "LassoLars(alpha=1.0, copy_X=True, eps=2.220446049250313e-16, fit_intercept=True,\n",
              "          fit_path=True, max_iter=500, normalize=True, positive=False,\n",
              "          precompute='auto', verbose=False)"
            ]
          },
          "metadata": {
            "tags": []
          },
          "execution_count": 38
        }
      ]
    },
    {
      "cell_type": "code",
      "metadata": {
        "colab": {
          "base_uri": "https://localhost:8080/"
        },
        "id": "VnDQDPDxgHBX",
        "outputId": "56ecb067-9e28-4f9f-d1f9-c24549acf294"
      },
      "source": [
        "Lasso_Lars.score(X_train, y_train)"
      ],
      "execution_count": 39,
      "outputs": [
        {
          "output_type": "execute_result",
          "data": {
            "text/plain": [
              "0.0"
            ]
          },
          "metadata": {
            "tags": []
          },
          "execution_count": 39
        }
      ]
    },
    {
      "cell_type": "code",
      "metadata": {
        "id": "KLwTNHjQgnf2",
        "colab": {
          "base_uri": "https://localhost:8080/"
        },
        "outputId": "38308889-a20c-4161-93a9-fb43c79f03b2"
      },
      "source": [
        "ARD_Regression = linear_model.ARDRegression()\n",
        "ARD_Regression.fit(X_train, y_train)"
      ],
      "execution_count": 40,
      "outputs": [
        {
          "output_type": "stream",
          "text": [
            "/usr/local/lib/python3.7/dist-packages/sklearn/utils/validation.py:760: DataConversionWarning: A column-vector y was passed when a 1d array was expected. Please change the shape of y to (n_samples, ), for example using ravel().\n",
            "  y = column_or_1d(y, warn=True)\n"
          ],
          "name": "stderr"
        },
        {
          "output_type": "execute_result",
          "data": {
            "text/plain": [
              "ARDRegression(alpha_1=1e-06, alpha_2=1e-06, compute_score=False, copy_X=True,\n",
              "              fit_intercept=True, lambda_1=1e-06, lambda_2=1e-06, n_iter=300,\n",
              "              normalize=False, threshold_lambda=10000.0, tol=0.001,\n",
              "              verbose=False)"
            ]
          },
          "metadata": {
            "tags": []
          },
          "execution_count": 40
        }
      ]
    },
    {
      "cell_type": "code",
      "metadata": {
        "colab": {
          "base_uri": "https://localhost:8080/"
        },
        "id": "0tpHxKztkt7L",
        "outputId": "339304c2-f7ac-4d09-e26b-725da0d62226"
      },
      "source": [
        "ARD_Regression.score(X_train, y_train)"
      ],
      "execution_count": 41,
      "outputs": [
        {
          "output_type": "execute_result",
          "data": {
            "text/plain": [
              "0.9947114532830363"
            ]
          },
          "metadata": {
            "tags": []
          },
          "execution_count": 41
        }
      ]
    },
    {
      "cell_type": "code",
      "metadata": {
        "colab": {
          "base_uri": "https://localhost:8080/"
        },
        "id": "C-Fw4xVukt_l",
        "outputId": "49b67a06-1483-41cb-fa6f-f48b3482b686"
      },
      "source": [
        "TheilSen_Regressor = linear_model.TheilSenRegressor()\n",
        "TheilSen_Regressor.fit(X_train, y_train)"
      ],
      "execution_count": 42,
      "outputs": [
        {
          "output_type": "stream",
          "text": [
            "/usr/local/lib/python3.7/dist-packages/sklearn/utils/validation.py:760: DataConversionWarning: A column-vector y was passed when a 1d array was expected. Please change the shape of y to (n_samples, ), for example using ravel().\n",
            "  y = column_or_1d(y, warn=True)\n"
          ],
          "name": "stderr"
        },
        {
          "output_type": "execute_result",
          "data": {
            "text/plain": [
              "TheilSenRegressor(copy_X=True, fit_intercept=True, max_iter=300,\n",
              "                  max_subpopulation=10000, n_jobs=None, n_subsamples=None,\n",
              "                  random_state=None, tol=0.001, verbose=False)"
            ]
          },
          "metadata": {
            "tags": []
          },
          "execution_count": 42
        }
      ]
    },
    {
      "cell_type": "code",
      "metadata": {
        "colab": {
          "base_uri": "https://localhost:8080/"
        },
        "id": "fzYjVAdpkuDR",
        "outputId": "f353c467-9cc6-400a-e60b-e92a37c29f2c"
      },
      "source": [
        "TheilSen_Regressor.score(X_train, y_train)"
      ],
      "execution_count": 43,
      "outputs": [
        {
          "output_type": "execute_result",
          "data": {
            "text/plain": [
              "0.9946540718041161"
            ]
          },
          "metadata": {
            "tags": []
          },
          "execution_count": 43
        }
      ]
    },
    {
      "cell_type": "code",
      "metadata": {
        "id": "33_ce4dpgpSP",
        "colab": {
          "base_uri": "https://localhost:8080/",
          "height": 195
        },
        "outputId": "b4129cd1-823b-4d4c-d360-8eabc540dbed"
      },
      "source": [
        "y_test.head()"
      ],
      "execution_count": 44,
      "outputs": [
        {
          "output_type": "execute_result",
          "data": {
            "text/html": [
              "<div>\n",
              "<style scoped>\n",
              "    .dataframe tbody tr th:only-of-type {\n",
              "        vertical-align: middle;\n",
              "    }\n",
              "\n",
              "    .dataframe tbody tr th {\n",
              "        vertical-align: top;\n",
              "    }\n",
              "\n",
              "    .dataframe thead th {\n",
              "        text-align: right;\n",
              "    }\n",
              "</style>\n",
              "<table border=\"1\" class=\"dataframe\">\n",
              "  <thead>\n",
              "    <tr style=\"text-align: right;\">\n",
              "      <th></th>\n",
              "      <th>0</th>\n",
              "    </tr>\n",
              "  </thead>\n",
              "  <tbody>\n",
              "    <tr>\n",
              "      <th>0</th>\n",
              "      <td>0.407407</td>\n",
              "    </tr>\n",
              "    <tr>\n",
              "      <th>1</th>\n",
              "      <td>0.441077</td>\n",
              "    </tr>\n",
              "    <tr>\n",
              "      <th>2</th>\n",
              "      <td>0.722222</td>\n",
              "    </tr>\n",
              "    <tr>\n",
              "      <th>3</th>\n",
              "      <td>0.750842</td>\n",
              "    </tr>\n",
              "    <tr>\n",
              "      <th>4</th>\n",
              "      <td>1.000000</td>\n",
              "    </tr>\n",
              "  </tbody>\n",
              "</table>\n",
              "</div>"
            ],
            "text/plain": [
              "          0\n",
              "0  0.407407\n",
              "1  0.441077\n",
              "2  0.722222\n",
              "3  0.750842\n",
              "4  1.000000"
            ]
          },
          "metadata": {
            "tags": []
          },
          "execution_count": 44
        }
      ]
    },
    {
      "cell_type": "code",
      "metadata": {
        "id": "Yrufwxvqg7wK"
      },
      "source": [
        "# y_test"
      ],
      "execution_count": null,
      "outputs": []
    },
    {
      "cell_type": "code",
      "metadata": {
        "colab": {
          "base_uri": "https://localhost:8080/"
        },
        "id": "0Jcbu08CgLK7",
        "outputId": "e96d4abb-a82f-40fc-b3af-59844ac46cc3"
      },
      "source": [
        "models = [reg, SGD_Regressor, Bayesian_Ridge,Lasso_Lars, ARD_Regression, TheilSen_Regressor]\n",
        "\n",
        "def fit_and_evaluate_model(model, x_train, y_train, x_val, y_val):\n",
        "    model.fit(x_train, y_train)\n",
        "    probs = model.predict(x_val)\n",
        "    score = model.score(x_val, y_val)\n",
        "    return probs, score\n",
        "\n",
        "start_ensemble = time.time()\n",
        "results = []\n",
        "for model in models:\n",
        "    results.append(fit_and_evaluate_model(model, X_train, y_train, X_test, y_test))\n",
        "end_ensemble = time.time()\n",
        "time_ensemble_seq = end_ensemble - start_ensemble\n",
        "print('Time taken by sequential run of ensemble model: {} seconds'.format(time_ensemble_seq))"
      ],
      "execution_count": null,
      "outputs": [
        {
          "output_type": "stream",
          "text": [
            "/usr/local/lib/python3.7/dist-packages/sklearn/utils/validation.py:760: DataConversionWarning: A column-vector y was passed when a 1d array was expected. Please change the shape of y to (n_samples, ), for example using ravel().\n",
            "  y = column_or_1d(y, warn=True)\n",
            "/usr/local/lib/python3.7/dist-packages/sklearn/utils/validation.py:760: DataConversionWarning: A column-vector y was passed when a 1d array was expected. Please change the shape of y to (n_samples, ), for example using ravel().\n",
            "  y = column_or_1d(y, warn=True)\n",
            "/usr/local/lib/python3.7/dist-packages/sklearn/utils/validation.py:760: DataConversionWarning: A column-vector y was passed when a 1d array was expected. Please change the shape of y to (n_samples, ), for example using ravel().\n",
            "  y = column_or_1d(y, warn=True)\n",
            "/usr/local/lib/python3.7/dist-packages/sklearn/utils/validation.py:760: DataConversionWarning: A column-vector y was passed when a 1d array was expected. Please change the shape of y to (n_samples, ), for example using ravel().\n",
            "  y = column_or_1d(y, warn=True)\n"
          ],
          "name": "stderr"
        },
        {
          "output_type": "stream",
          "text": [
            "Time taken by sequential run of ensemble model: 56.51558971405029 seconds\n"
          ],
          "name": "stdout"
        }
      ]
    },
    {
      "cell_type": "code",
      "metadata": {
        "id": "S3s6X_9NnjCh"
      },
      "source": [
        "models_name = [\"Linear-Regression\", \"SGD-Regressor\", \"Bayesian-Ridge\" , \"Lasso-Lars\", \"ARD-Regression\", \"TheilSen-Regressor\"]"
      ],
      "execution_count": null,
      "outputs": []
    },
    {
      "cell_type": "code",
      "metadata": {
        "colab": {
          "base_uri": "https://localhost:8080/"
        },
        "id": "l_qxpkMClVTE",
        "outputId": "6f2ace08-5988-4554-9fea-0f1fcfa0fa0b"
      },
      "source": [
        "len(results )"
      ],
      "execution_count": null,
      "outputs": [
        {
          "output_type": "execute_result",
          "data": {
            "text/plain": [
              "6"
            ]
          },
          "metadata": {
            "tags": []
          },
          "execution_count": 129
        }
      ]
    },
    {
      "cell_type": "code",
      "metadata": {
        "colab": {
          "base_uri": "https://localhost:8080/",
          "height": 295
        },
        "id": "0FIK0oAbmpIy",
        "outputId": "7f2cb0da-0d5b-46bf-f65e-d704f27abedb"
      },
      "source": [
        "import matplotlib.pyplot as plt\n",
        "ind = 0\n",
        "for i in results:\n",
        "  plt.plot(i[0], label = models_name[ind])\n",
        "  ind = ind+1\n",
        "plt.title(\"Series Predictions\")\n",
        "plt.xlabel('Time')\n",
        "plt.ylabel('Predicted Stock Prices')\n",
        "plt.legend()\n",
        "plt.show()"
      ],
      "execution_count": null,
      "outputs": [
        {
          "output_type": "display_data",
          "data": {
            "image/png": "[encoded data removed]",
            "text/plain": [
              "<Figure size 432x288 with 1 Axes>"
            ]
          },
          "metadata": {
            "tags": [],
            "needs_background": "light"
          }
        }
      ]
    },
    {
      "cell_type": "code",
      "metadata": {
        "id": "3-bCwgnDlxCD"
      },
      "source": [
        ""
      ],
      "execution_count": null,
      "outputs": []
    },
    {
      "cell_type": "code",
      "metadata": {
        "colab": {
          "base_uri": "https://localhost:8080/"
        },
        "id": "EjWeW2c0hJuW",
        "outputId": "67adeb72-53c2-486f-8326-2585b76213d8"
      },
      "source": [
        "\n",
        "start_ensemble = time.time()\n",
        "results = Parallel(n_jobs=3, backend='loky', verbose=0)\\\n",
        "                            (delayed(fit_and_evaluate_model)(model, X_train, y_train, X_test, y_test) \\\n",
        "                             for model in models)\n",
        "end_ensemble = time.time()\n",
        "time_ensemble_par = end_ensemble - start_ensemble\n",
        "print('Time taken by parallel run of ensemble model: {} seconds'.format(time_ensemble_par))"
      ],
      "execution_count": null,
      "outputs": [
        {
          "output_type": "stream",
          "text": [
            "Time taken by parallel run of ensemble model: 50.017308473587036 seconds\n"
          ],
          "name": "stdout"
        }
      ]
    },
    {
      "cell_type": "code",
      "metadata": {
        "colab": {
          "base_uri": "https://localhost:8080/",
          "height": 295
        },
        "id": "2sMa1ZL5hb07",
        "outputId": "51a7bb28-9f70-45fa-a447-04098fc9d585"
      },
      "source": [
        "import matplotlib.pyplot as plt\n",
        "ind = 0\n",
        "for i in results:\n",
        "  plt.plot(i[0], label = models_name[ind])\n",
        "  ind = ind+1\n",
        "plt.title(\"Parallel Predictions\")\n",
        "plt.xlabel('Time')\n",
        "plt.ylabel('Predicted Stock Prices')\n",
        "plt.legend()\n",
        "plt.show()"
      ],
      "execution_count": null,
      "outputs": [
        {
          "output_type": "display_data",
          "data": {
            "image/png": "[encoded data removed]",
            "text/plain": [
              "<Figure size 432x288 with 1 Axes>"
            ]
          },
          "metadata": {
            "tags": [],
            "needs_background": "light"
          }
        }
      ]
    },
    {
      "cell_type": "code",
      "metadata": {
        "id": "iVwdu0Y4ZiGM"
      },
      "source": [
        ""
      ],
      "execution_count": null,
      "outputs": []
    },
    {
      "cell_type": "code",
      "metadata": {
        "colab": {
          "base_uri": "https://localhost:8080/"
        },
        "id": "j0oYW1NEZiJh",
        "outputId": "b7907d1a-fb46-4f6c-af44-2d099e8ca7ed"
      },
      "source": [
        "\n",
        "start_ensemble = time.time()\n",
        "results = Parallel(n_jobs=3, backend='multiprocessing', verbose=0)\\\n",
        "                            (delayed(fit_and_evaluate_model)(model, X_train, y_train, X_test, y_test) \\\n",
        "                             for model in models)\n",
        "end_ensemble = time.time()\n",
        "time_ensemble_par = end_ensemble - start_ensemble\n",
        "print('Time taken by parallel run of ensemble model: {} seconds'.format(time_ensemble_par))"
      ],
      "execution_count": null,
      "outputs": [
        {
          "output_type": "stream",
          "text": [
            "/usr/local/lib/python3.7/dist-packages/sklearn/utils/validation.py:760: DataConversionWarning: A column-vector y was passed when a 1d array was expected. Please change the shape of y to (n_samples, ), for example using ravel().\n",
            "  y = column_or_1d(y, warn=True)\n",
            "/usr/local/lib/python3.7/dist-packages/sklearn/utils/validation.py:760: DataConversionWarning: A column-vector y was passed when a 1d array was expected. Please change the shape of y to (n_samples, ), for example using ravel().\n",
            "  y = column_or_1d(y, warn=True)\n",
            "/usr/local/lib/python3.7/dist-packages/sklearn/utils/validation.py:760: DataConversionWarning: A column-vector y was passed when a 1d array was expected. Please change the shape of y to (n_samples, ), for example using ravel().\n",
            "  y = column_or_1d(y, warn=True)\n",
            "/usr/local/lib/python3.7/dist-packages/sklearn/utils/validation.py:760: DataConversionWarning: A column-vector y was passed when a 1d array was expected. Please change the shape of y to (n_samples, ), for example using ravel().\n",
            "  y = column_or_1d(y, warn=True)\n"
          ],
          "name": "stderr"
        },
        {
          "output_type": "stream",
          "text": [
            "Time taken by parallel run of ensemble model: 57.56380796432495 seconds\n"
          ],
          "name": "stdout"
        }
      ]
    },
    {
      "cell_type": "code",
      "metadata": {
        "colab": {
          "base_uri": "https://localhost:8080/",
          "height": 295
        },
        "id": "m2Np5Dc_ZiMv",
        "outputId": "1d95ccb3-db1d-4b5b-a782-dac692e67350"
      },
      "source": [
        "import matplotlib.pyplot as plt\n",
        "ind = 0\n",
        "for i in results:\n",
        "  plt.plot(i[0], label = models_name[ind])\n",
        "  ind = ind+1\n",
        "plt.title(\"Parallel Predictions Multiprocessing\")\n",
        "plt.xlabel('Time')\n",
        "plt.ylabel('Predicted Stock Prices')\n",
        "plt.legend()\n",
        "plt.show()"
      ],
      "execution_count": null,
      "outputs": [
        {
          "output_type": "display_data",
          "data": {
            "image/png": "[encoded data removed]",
            "text/plain": [
              "<Figure size 432x288 with 1 Axes>"
            ]
          },
          "metadata": {
            "tags": [],
            "needs_background": "light"
          }
        }
      ]
    },
    {
      "cell_type": "code",
      "metadata": {
        "colab": {
          "base_uri": "https://localhost:8080/"
        },
        "id": "9RMMHn66bN15",
        "outputId": "9923852f-3312-4b39-a2b5-fd4f846262ef"
      },
      "source": [
        "\n",
        "start_ensemble = time.time()\n",
        "results = Parallel(n_jobs=3, backend='threading', verbose=0)\\\n",
        "                            (delayed(fit_and_evaluate_model)(model, X_train, y_train, X_test, y_test) \\\n",
        "                             for model in models)\n",
        "end_ensemble = time.time()\n",
        "time_ensemble_par = end_ensemble - start_ensemble\n",
        "print('Time taken by parallel run of ensemble model: {} seconds'.format(time_ensemble_par))"
      ],
      "execution_count": null,
      "outputs": [
        {
          "output_type": "stream",
          "text": [
            "/usr/local/lib/python3.7/dist-packages/sklearn/utils/validation.py:760: DataConversionWarning: A column-vector y was passed when a 1d array was expected. Please change the shape of y to (n_samples, ), for example using ravel().\n",
            "  y = column_or_1d(y, warn=True)\n",
            "/usr/local/lib/python3.7/dist-packages/sklearn/utils/validation.py:760: DataConversionWarning: A column-vector y was passed when a 1d array was expected. Please change the shape of y to (n_samples, ), for example using ravel().\n",
            "  y = column_or_1d(y, warn=True)\n",
            "/usr/local/lib/python3.7/dist-packages/sklearn/utils/validation.py:760: DataConversionWarning: A column-vector y was passed when a 1d array was expected. Please change the shape of y to (n_samples, ), for example using ravel().\n",
            "  y = column_or_1d(y, warn=True)\n"
          ],
          "name": "stderr"
        },
        {
          "output_type": "stream",
          "text": [
            "Time taken by parallel run of ensemble model: 56.52783823013306 seconds\n"
          ],
          "name": "stdout"
        }
      ]
    },
    {
      "cell_type": "code",
      "metadata": {
        "colab": {
          "base_uri": "https://localhost:8080/",
          "height": 295
        },
        "id": "k_SAwDBabOYi",
        "outputId": "40e2d29f-9f78-4626-f5c6-2d213a9ddc71"
      },
      "source": [
        "import matplotlib.pyplot as plt\n",
        "ind = 0\n",
        "for i in results:\n",
        "  plt.plot(i[0], label = models_name[ind])\n",
        "  ind = ind+1\n",
        "plt.title(\"Parallel Predictions Threading\")\n",
        "plt.xlabel('Time')\n",
        "plt.ylabel('Predicted Stock Prices')\n",
        "plt.legend()\n",
        "plt.show()"
      ],
      "execution_count": null,
      "outputs": [
        {
          "output_type": "display_data",
          "data": {
            "image/png": "[encoded data removed]",
            "text/plain": [
              "<Figure size 432x288 with 1 Axes>"
            ]
          },
          "metadata": {
            "tags": [],
            "needs_background": "light"
          }
        }
      ]
    },
    {
      "cell_type": "code",
      "metadata": {
        "id": "5FtRJTj3bObP"
      },
      "source": [
        ""
      ],
      "execution_count": null,
      "outputs": []
    },
    {
      "cell_type": "code",
      "metadata": {
        "id": "6ve-TwKikjeh",
        "colab": {
          "base_uri": "https://localhost:8080/",
          "height": 295
        },
        "outputId": "52722397-3542-423c-9899-ce60d25f9c36"
      },
      "source": [
        "import matplotlib.pyplot as plt\n",
        "\n",
        "left = [\"Linear\", \"Loky\", \"Multiprocessing\", \"Threading\"]\n",
        "height = [56.51558971405029,50.017308473587036, 57.56380796432495,  56.52783823013306]\n",
        "  \n",
        "plt.bar( left,height,width = 0.8)\n",
        "  \n",
        "plt.xlabel('Models')\n",
        "# naming the y-axis\n",
        "plt.ylabel('Time Taken')\n",
        "# plot title\n",
        "plt.title('Comparison Chart !')\n",
        "  \n",
        "# function to show the plot\n",
        "plt.show()"
      ],
      "execution_count": null,
      "outputs": [
        {
          "output_type": "display_data",
          "data": {
            "image/png": "[encoded data removed]",
            "text/plain": [
              "<Figure size 432x288 with 1 Axes>"
            ]
          },
          "metadata": {
            "tags": [],
            "needs_background": "light"
          }
        }
      ]
    },
    {
      "cell_type": "code",
      "metadata": {
        "id": "QYhNoSOqXmcT"
      },
      "source": [
        ""
      ],
      "execution_count": null,
      "outputs": []
    },
    {
      "cell_type": "code",
      "metadata": {
        "id": "Pg8nnigt2zKr"
      },
      "source": [
        ""
      ],
      "execution_count": null,
      "outputs": []
    },
    {
      "cell_type": "code",
      "metadata": {
        "id": "8ZoW5Wir2zMb"
      },
      "source": [
        ""
      ],
      "execution_count": null,
      "outputs": []
    },
    {
      "cell_type": "code",
      "metadata": {
        "colab": {
          "base_uri": "https://localhost:8080/"
        },
        "id": "i21hB8qtUMU9",
        "outputId": "ecb0224b-9d03-4bb8-a3f8-8a60c7f5486b"
      },
      "source": [
        "models = [reg, SGD_Regressor, Bayesian_Ridge,Lasso_Lars, ARD_Regression, TheilSen_Regressor]\n",
        "\n",
        "def fit_and_evaluate_model(model, x_train, y_train, x_val, y_val):\n",
        "    model.fit(x_train, y_train)\n",
        "    probs = model.predict(x_val)\n",
        "    score = model.score(x_val, y_val)\n",
        "    return probs, score\n",
        "\n",
        "\n",
        "start_ensemble = time.time()\n",
        "results = Parallel(n_jobs=3, backend='loky', verbose=0)\\\n",
        "                            (delayed(fit_and_evaluate_model)(model, X_train, y_train, X_test, y_test) \\\n",
        "                             for model in models)\n",
        "end_ensemble = time.time()\n",
        "time_ensemble_par = end_ensemble - start_ensemble\n",
        "print('Time taken by parallel run of ensemble model: {} seconds'.format(time_ensemble_par))"
      ],
      "execution_count": 45,
      "outputs": [
        {
          "output_type": "stream",
          "text": [
            "Time taken by parallel run of ensemble model: 64.88349223136902 seconds\n"
          ],
          "name": "stdout"
        }
      ]
    },
    {
      "cell_type": "code",
      "metadata": {
        "id": "1d2YmXUH71AE"
      },
      "source": [
        "arr = []\n",
        "mid = []\n",
        "for i in results[0][0]:\n",
        "  mid.append(i[0])\n",
        "arr.append(mid)"
      ],
      "execution_count": 149,
      "outputs": []
    },
    {
      "cell_type": "code",
      "metadata": {
        "id": "lTaQySMX9A00"
      },
      "source": [
        "for i in results[1:]:\n",
        "  mid=[]\n",
        "  for j in i[0]:\n",
        "    mid.append(j)\n",
        "  arr.append(mid)"
      ],
      "execution_count": 150,
      "outputs": []
    },
    {
      "cell_type": "code",
      "metadata": {
        "colab": {
          "base_uri": "https://localhost:8080/"
        },
        "id": "5NQm-H4I9qJW",
        "outputId": "7e8793da-9c11-47c7-a232-c19664aebe16"
      },
      "source": [
        "len(arr)"
      ],
      "execution_count": 151,
      "outputs": [
        {
          "output_type": "execute_result",
          "data": {
            "text/plain": [
              "6"
            ]
          },
          "metadata": {
            "tags": []
          },
          "execution_count": 151
        }
      ]
    },
    {
      "cell_type": "code",
      "metadata": {
        "colab": {
          "base_uri": "https://localhost:8080/"
        },
        "id": "KZzaHVOoAVAz",
        "outputId": "b360cbb5-0035-497a-91b6-eb84239d977d"
      },
      "source": [
        "weights = []\n",
        "for i in results:\n",
        "  weights.append(i[1])\n",
        "weights"
      ],
      "execution_count": 152,
      "outputs": [
        {
          "output_type": "execute_result",
          "data": {
            "text/plain": [
              "[0.1248547608267685,\n",
              " -1.0285979050206118,\n",
              " 0.12346979343788012,\n",
              " -0.9759393087233275,\n",
              " 0.11964202935101209,\n",
              " 0.11747694208650472]"
            ]
          },
          "metadata": {
            "tags": []
          },
          "execution_count": 152
        }
      ]
    },
    {
      "cell_type": "code",
      "metadata": {
        "id": "E_0uA9hm4EqQ"
      },
      "source": [
        "y_test_list = list(y_test[0])"
      ],
      "execution_count": 153,
      "outputs": []
    },
    {
      "cell_type": "code",
      "metadata": {
        "id": "rilDRvTQRz1c"
      },
      "source": [
        ""
      ],
      "execution_count": 50,
      "outputs": []
    },
    {
      "cell_type": "code",
      "metadata": {
        "id": "pIYFxf_e8oz1"
      },
      "source": [
        "def simple_average(real ,weights , arr ):\n",
        "  final = []\n",
        "  for i in range(4,len(real)):\n",
        "    before = real[i-1]\n",
        "    t,f = 0,0\n",
        "    for j in arr:\n",
        "      s=sum(j[i-4:i+1])/5\n",
        "      if(s>before):\n",
        "        t=t+1\n",
        "      else:\n",
        "        f=f+1\n",
        "    if(t>f):\n",
        "      final.append(\"Buy\")\n",
        "    else:\n",
        "      final.append(\"Don't Buy\")  \n",
        "  return(final)"
      ],
      "execution_count": 51,
      "outputs": []
    },
    {
      "cell_type": "code",
      "metadata": {
        "colab": {
          "base_uri": "https://localhost:8080/"
        },
        "id": "XJz0FW9uJvYh",
        "outputId": "8d855cb7-6cb2-4fa9-b411-35c60fe7e3fc"
      },
      "source": [
        "# start_ensemble = time.time()\n",
        "simple_average(y_test_list, weights, arr)\n",
        "# end_ensemble = time.time()\n",
        "# time_ensemble_par = end_ensemble - start_ensemble\n",
        "# time_ensemble_par"
      ],
      "execution_count": 66,
      "outputs": [
        {
          "output_type": "execute_result",
          "data": {
            "text/plain": [
              "[\"Don't Buy\",\n",
              " \"Don't Buy\",\n",
              " \"Don't Buy\",\n",
              " \"Don't Buy\",\n",
              " \"Don't Buy\",\n",
              " 'Buy',\n",
              " 'Buy',\n",
              " 'Buy',\n",
              " 'Buy',\n",
              " 'Buy',\n",
              " 'Buy',\n",
              " \"Don't Buy\"]"
            ]
          },
          "metadata": {
            "tags": []
          },
          "execution_count": 66
        }
      ]
    },
    {
      "cell_type": "code",
      "metadata": {
        "colab": {
          "base_uri": "https://localhost:8080/",
          "height": 169
        },
        "id": "itsvvUAhhUjn",
        "outputId": "c8e2c15a-6db4-409f-f4ce-d4aeae680d0e"
      },
      "source": [
        "!pip install pymp-pypi"
      ],
      "execution_count": 56,
      "outputs": [
        {
          "output_type": "stream",
          "text": [
            "Collecting pymp-pypi\n",
            "  Downloading https://files.pythonhosted.org/packages/e9/ff/8ec07d0c901d4161012ae505d47b459dd30d5112b8ba4abca33811e62243/pymp_pypi-0.4.3-py3-none-any.whl\n",
            "Installing collected packages: pymp-pypi\n",
            "Successfully installed pymp-pypi-0.4.3\n"
          ],
          "name": "stdout"
        },
        {
          "output_type": "display_data",
          "data": {
            "application/vnd.colab-display-data+json": {
              "pip_warning": {
                "packages": [
                  "pymp"
                ]
              }
            }
          },
          "metadata": {
            "tags": []
          }
        }
      ]
    },
    {
      "cell_type": "code",
      "metadata": {
        "id": "KyF8dCOihUmR"
      },
      "source": [
        "import pymp"
      ],
      "execution_count": 55,
      "outputs": []
    },
    {
      "cell_type": "code",
      "metadata": {
        "id": "9JELd_IvOCnS"
      },
      "source": [
        "def simple_average_parallel(real ,weights , arr ):\n",
        "  final = []\n",
        "  with pymp.Parallel(2) as p:\n",
        "      for i in p.xrange(4,len(real)+1):\n",
        "        before = real[i-1]\n",
        "        t,f = 0,0\n",
        "        for j in arr:\n",
        "          with p.lock:\n",
        "            s=sum(j[i-4:i+1])/5\n",
        "            if(s>before):\n",
        "              t=t+1\n",
        "            else:\n",
        "              f=f+1\n",
        "        if(t>f):\n",
        "          final.append(\"Buy\")\n",
        "        else:\n",
        "          final.append(\"Don't Buy\")  \n",
        "  return(final)"
      ],
      "execution_count": 73,
      "outputs": []
    },
    {
      "cell_type": "code",
      "metadata": {
        "colab": {
          "base_uri": "https://localhost:8080/"
        },
        "id": "6wxNadHBhtWj",
        "outputId": "b8d1011d-aa49-4020-fbf8-ecc2007b2ef7"
      },
      "source": [
        "# start_ensemble = time.time()\n",
        "simple_average_parallel(y_test_list, weights, arr)\n",
        "# end_ensemble = time.time()\n",
        "# time_ensemble_par = end_ensemble - start_ensemble\n",
        "# time_ensemble_par"
      ],
      "execution_count": 74,
      "outputs": [
        {
          "output_type": "execute_result",
          "data": {
            "text/plain": [
              "[\"Don't Buy\",\n",
              " \"Don't Buy\",\n",
              " \"Don't Buy\",\n",
              " \"Don't Buy\",\n",
              " \"Don't Buy\",\n",
              " 'Buy',\n",
              " 'Buy',\n",
              " 'Buy',\n",
              " 'Buy',\n",
              " 'Buy',\n",
              " 'Buy']"
            ]
          },
          "metadata": {
            "tags": []
          },
          "execution_count": 74
        }
      ]
    },
    {
      "cell_type": "code",
      "metadata": {
        "id": "aS-ENkYXC30K"
      },
      "source": [
        "def weighted_average(real ,weights , arr ):\n",
        "  final = []\n",
        "  copy = [0]*len(weights)\n",
        "\n",
        "  # Calculating Weights\n",
        "  for i in range(len(weights)) :\n",
        "    m = weights.index(min(weights))\n",
        "    copy[m] = i+1\n",
        "\n",
        "  for i in range(4,len(real)):\n",
        "    before = real[i-1]\n",
        "    t,f,ind = 0,0,0\n",
        "\n",
        "    for j in arr:\n",
        "      s=sum(j[i-4:i+1])/5\n",
        "      if(s>before):\n",
        "        t=t+(1*copy[ind])\n",
        "      else:\n",
        "        f=f+(1*copy[ind])\n",
        "      ind = ind + 1\n",
        "    if(t>f):\n",
        "      final.append(\"Buy\")\n",
        "    else:\n",
        "      final.append(\"Don't Buy\")  \n",
        "  return(final)"
      ],
      "execution_count": 78,
      "outputs": []
    },
    {
      "cell_type": "code",
      "metadata": {
        "id": "PPYCSAIgC_6w",
        "colab": {
          "base_uri": "https://localhost:8080/"
        },
        "outputId": "f457083a-b32e-4896-b79c-a7993b114839"
      },
      "source": [
        "weighted_average(y_test_list, weights, arr)"
      ],
      "execution_count": 79,
      "outputs": [
        {
          "output_type": "execute_result",
          "data": {
            "text/plain": [
              "[\"Don't Buy\",\n",
              " \"Don't Buy\",\n",
              " \"Don't Buy\",\n",
              " \"Don't Buy\",\n",
              " \"Don't Buy\",\n",
              " 'Buy',\n",
              " 'Buy',\n",
              " 'Buy',\n",
              " 'Buy',\n",
              " 'Buy',\n",
              " \"Don't Buy\",\n",
              " \"Don't Buy\"]"
            ]
          },
          "metadata": {
            "tags": []
          },
          "execution_count": 79
        }
      ]
    },
    {
      "cell_type": "code",
      "metadata": {
        "id": "EiXesmrHOH20"
      },
      "source": [
        "def weighted_average_parallel(real ,weights , arr ):\n",
        "  final = []\n",
        "  copy = [0]*len(weights)\n",
        "\n",
        "  # Calculating Weights\n",
        "  \n",
        "  for i in range(len(weights)) :\n",
        "    m = weights.index(min(weights))\n",
        "    copy[m] = i+1\n",
        "\n",
        "  with pymp.Parallel(2) as p:\n",
        "    for i in range(4,len(real)):\n",
        "      before = real[i-1]\n",
        "      t,f,ind = 0,0,0\n",
        "\n",
        "      for j in arr:\n",
        "        with p.lock:\n",
        "          s=sum(j[i-4:i+1])/5\n",
        "          if(s>before):\n",
        "            t=t+(1*copy[ind])\n",
        "          else:\n",
        "            f=f+(1*copy[ind])\n",
        "          ind = ind + 1\n",
        "      if(t>f):\n",
        "        final.append(\"Buy\")\n",
        "      else:\n",
        "        final.append(\"Don't Buy\")  \n",
        "  return(final)"
      ],
      "execution_count": 80,
      "outputs": []
    },
    {
      "cell_type": "code",
      "metadata": {
        "colab": {
          "base_uri": "https://localhost:8080/"
        },
        "id": "eHIT3tZSzsHt",
        "outputId": "423fec57-196e-47d5-c9da-076268098a6f"
      },
      "source": [
        "weighted_average_parallel(y_test_list, weights, arr)"
      ],
      "execution_count": 81,
      "outputs": [
        {
          "output_type": "execute_result",
          "data": {
            "text/plain": [
              "[\"Don't Buy\",\n",
              " \"Don't Buy\",\n",
              " \"Don't Buy\",\n",
              " \"Don't Buy\",\n",
              " \"Don't Buy\",\n",
              " 'Buy',\n",
              " 'Buy',\n",
              " 'Buy',\n",
              " 'Buy',\n",
              " 'Buy',\n",
              " \"Don't Buy\",\n",
              " \"Don't Buy\"]"
            ]
          },
          "metadata": {
            "tags": []
          },
          "execution_count": 81
        }
      ]
    },
    {
      "cell_type": "code",
      "metadata": {
        "id": "QLU3NhXDD2gH"
      },
      "source": [
        "def exponential_average(real ,weights , arr ):\n",
        "  final = []\n",
        "  copy = [0]*len(weights)\n",
        "\n",
        "  # Calculating Weights\n",
        "  for i in range(len(weights)) :\n",
        "    m = weights.index(min(weights))\n",
        "    copy[m] = i+1\n",
        "\n",
        "  for i in range(4,len(real)):\n",
        "    before = real[i-1]\n",
        "    t,f,ind = 0,0,0\n",
        "    for j in arr:\n",
        "      s=0\n",
        "      exp = [0.1,0.2,0.3,0.4,0.5]\n",
        "      ide = 0\n",
        "      for k in j[i-4:i+1] :\n",
        "        s=s + k*(exp[ide])\n",
        "        ide = ide+1\n",
        "      s=s/1.5\n",
        "      if(s>before):\n",
        "        t=t+(1*copy[ind])\n",
        "      else:\n",
        "        f=f+(1*copy[ind])\n",
        "      ind = ind + 1\n",
        "    if(t>f):\n",
        "      final.append(\"Buy\")\n",
        "    else:\n",
        "      final.append(\"Don't Buy\")  \n",
        "  return(final)"
      ],
      "execution_count": 82,
      "outputs": []
    },
    {
      "cell_type": "code",
      "metadata": {
        "colab": {
          "base_uri": "https://localhost:8080/"
        },
        "id": "I5hyeYH-FPuC",
        "outputId": "6b533bdf-b26c-4b7f-cba3-07c92d6f46cf"
      },
      "source": [
        "exponential_average(y_test_list, weights, arr)"
      ],
      "execution_count": 83,
      "outputs": [
        {
          "output_type": "execute_result",
          "data": {
            "text/plain": [
              "[\"Don't Buy\",\n",
              " \"Don't Buy\",\n",
              " \"Don't Buy\",\n",
              " \"Don't Buy\",\n",
              " \"Don't Buy\",\n",
              " 'Buy',\n",
              " 'Buy',\n",
              " 'Buy',\n",
              " 'Buy',\n",
              " 'Buy',\n",
              " \"Don't Buy\",\n",
              " \"Don't Buy\"]"
            ]
          },
          "metadata": {
            "tags": []
          },
          "execution_count": 83
        }
      ]
    },
    {
      "cell_type": "code",
      "metadata": {
        "id": "CyzCnfX9OWRb"
      },
      "source": [
        "def exponential_average_parallel(real ,weights , arr ):\n",
        "  final = []\n",
        "  copy = [0]*len(weights)\n",
        "\n",
        "  # Calculating Weights\n",
        "  for i in range(len(weights)) :\n",
        "    m = weights.index(min(weights))\n",
        "    copy[m] = i+1\n",
        "  with pymp.Parallel(2) as p:\n",
        "    for i in range(4,len(real)):\n",
        "      before = real[i-1]\n",
        "      t,f,ind = 0,0,0\n",
        "      for j in arr:\n",
        "        with p.lock:\n",
        "          s=0\n",
        "          exp = [0.1,0.2,0.3,0.4,0.5]\n",
        "          ide = 0\n",
        "          for k in j[i-4:i+1] :\n",
        "            s=s + k*(exp[ide])\n",
        "            ide = ide+1\n",
        "          s=s/1.5\n",
        "          if(s>before):\n",
        "            t=t+(1*copy[ind])\n",
        "          else:\n",
        "            f=f+(1*copy[ind])\n",
        "          ind = ind + 1\n",
        "      if(t>f):\n",
        "        final.append(\"Buy\")\n",
        "      else:\n",
        "        final.append(\"Don't Buy\")  \n",
        "  return(final)"
      ],
      "execution_count": 86,
      "outputs": []
    },
    {
      "cell_type": "code",
      "metadata": {
        "colab": {
          "base_uri": "https://localhost:8080/"
        },
        "id": "Fp2nD7zm0YNN",
        "outputId": "15c96d4e-f109-4e89-df7b-1700ea066fc3"
      },
      "source": [
        "exponential_average_parallel(y_test_list, weights, arr)"
      ],
      "execution_count": 88,
      "outputs": [
        {
          "output_type": "execute_result",
          "data": {
            "text/plain": [
              "[\"Don't Buy\",\n",
              " \"Don't Buy\",\n",
              " \"Don't Buy\",\n",
              " \"Don't Buy\",\n",
              " \"Don't Buy\",\n",
              " 'Buy',\n",
              " 'Buy',\n",
              " 'Buy',\n",
              " 'Buy',\n",
              " 'Buy',\n",
              " \"Don't Buy\",\n",
              " \"Don't Buy\"]"
            ]
          },
          "metadata": {
            "tags": []
          },
          "execution_count": 88
        }
      ]
    },
    {
      "cell_type": "markdown",
      "metadata": {
        "id": "qVV7L7_c4JgA"
      },
      "source": [
        "# Serial Functions "
      ]
    },
    {
      "cell_type": "code",
      "metadata": {
        "id": "DaKmkF7608wI"
      },
      "source": [
        "#Serial_Implementation-Serial_Functions"
      ],
      "execution_count": 98,
      "outputs": []
    },
    {
      "cell_type": "code",
      "metadata": {
        "colab": {
          "base_uri": "https://localhost:8080/"
        },
        "id": "yaYUKBFXF0Hw",
        "outputId": "41a585e3-146c-4f4d-c519-cc52d07d2d04"
      },
      "source": [
        "models = [simple_average, weighted_average, exponential_average]\n",
        "\n",
        "start_ensemble = time.time()\n",
        "results_buy = []\n",
        "for model in models:\n",
        "    results_buy.append(model(y_test_list, weights, arr))\n",
        "end_ensemble = time.time()\n",
        "time_ensemble_seq = end_ensemble - start_ensemble\n",
        "print('Time taken by sequential run of ensemble model: {} seconds'.format(time_ensemble_seq))"
      ],
      "execution_count": 99,
      "outputs": [
        {
          "output_type": "stream",
          "text": [
            "Time taken by sequential run of ensemble model: 0.0008313655853271484 seconds\n"
          ],
          "name": "stdout"
        }
      ]
    },
    {
      "cell_type": "code",
      "metadata": {
        "id": "1tjJOAia1EVm"
      },
      "source": [
        "#Parallel_Implementation_Loky-Serial_Functions"
      ],
      "execution_count": 102,
      "outputs": []
    },
    {
      "cell_type": "code",
      "metadata": {
        "colab": {
          "base_uri": "https://localhost:8080/"
        },
        "id": "AnUDf53ZMY3c",
        "outputId": "a063176c-2e8d-4cdd-f46a-6ddff29ac129"
      },
      "source": [
        "models = [simple_average, weighted_average, exponential_average]\n",
        "\n",
        "start_ensemble = time.time()\n",
        "results_buy = Parallel(n_jobs=3, backend='loky', verbose=0)\\\n",
        "                            (delayed(model)(y_test_list, weights, arr) \\\n",
        "                             for model in models)\n",
        "end_ensemble = time.time()\n",
        "time_ensemble_par = end_ensemble - start_ensemble\n",
        "print('Time taken by parallel run of ensemble model: {} seconds'.format(time_ensemble_par))"
      ],
      "execution_count": 103,
      "outputs": [
        {
          "output_type": "stream",
          "text": [
            "Time taken by parallel run of ensemble model: 0.06517839431762695 seconds\n"
          ],
          "name": "stdout"
        }
      ]
    },
    {
      "cell_type": "code",
      "metadata": {
        "id": "dv0vhPSq0pC4"
      },
      "source": [
        "#Parallel_Implementation_Multi-Serial_Functions"
      ],
      "execution_count": 104,
      "outputs": []
    },
    {
      "cell_type": "code",
      "metadata": {
        "colab": {
          "base_uri": "https://localhost:8080/"
        },
        "id": "MEZ1vmP3VWQ3",
        "outputId": "8f77218d-42b1-45c8-899f-6aa84f91d1b0"
      },
      "source": [
        "models = [simple_average, weighted_average, exponential_average]\n",
        "\n",
        "start_ensemble = time.time()\n",
        "results_buy = Parallel(n_jobs=3, backend='multiprocessing', verbose=0)\\\n",
        "                            (delayed(model)(y_test_list, weights, arr) \\\n",
        "                             for model in models)\n",
        "end_ensemble = time.time()\n",
        "time_ensemble_par = end_ensemble - start_ensemble\n",
        "print('Time taken by parallel run of ensemble model: {} seconds'.format(time_ensemble_par))"
      ],
      "execution_count": 105,
      "outputs": [
        {
          "output_type": "stream",
          "text": [
            "Time taken by parallel run of ensemble model: 0.4046664237976074 seconds\n"
          ],
          "name": "stdout"
        }
      ]
    },
    {
      "cell_type": "code",
      "metadata": {
        "id": "p3DFO6Kv12Go"
      },
      "source": [
        "#Parallel_Implementation_Threading-Serial_Functions"
      ],
      "execution_count": 106,
      "outputs": []
    },
    {
      "cell_type": "code",
      "metadata": {
        "colab": {
          "base_uri": "https://localhost:8080/"
        },
        "id": "fyMzbZerVW4l",
        "outputId": "bcb350e3-b7ee-4ade-e935-83f2c51d4f80"
      },
      "source": [
        "models = [simple_average, weighted_average, exponential_average]\n",
        "\n",
        "start_ensemble = time.time()\n",
        "results_buy = Parallel(n_jobs=3, backend='threading', verbose=0)\\\n",
        "                            (delayed(model)(y_test_list, weights, arr) \\\n",
        "                             for model in models)\n",
        "end_ensemble = time.time()\n",
        "time_ensemble_par = end_ensemble - start_ensemble\n",
        "print('Time taken by parallel run of ensemble model: {} seconds'.format(time_ensemble_par))"
      ],
      "execution_count": 107,
      "outputs": [
        {
          "output_type": "stream",
          "text": [
            "Time taken by parallel run of ensemble model: 0.10668087005615234 seconds\n"
          ],
          "name": "stdout"
        }
      ]
    },
    {
      "cell_type": "code",
      "metadata": {
        "colab": {
          "base_uri": "https://localhost:8080/",
          "height": 295
        },
        "id": "EMdxOGvJMatL",
        "outputId": "bfb329be-6e91-415a-8a9e-df6b7762d61e"
      },
      "source": [
        "import matplotlib.pyplot as plt\n",
        "\n",
        "left = [\"Linear\", \"Loky\", \"Multiprocessing\", \"Threading\"]\n",
        "height = [0.009655475616455078, 0.4409363269805908, 0.2941441535949707, 0.10568904876708984]\n",
        "  \n",
        "plt.bar( left,height,width = 0.8)\n",
        "  \n",
        "plt.xlabel('Prediction Models')\n",
        "# naming the y-axis\n",
        "plt.ylabel('Time Taken')\n",
        "# plot title\n",
        "plt.title('Comparison Chart !')\n",
        "  \n",
        "# function to show the plot\n",
        "plt.show()"
      ],
      "execution_count": null,
      "outputs": [
        {
          "output_type": "display_data",
          "data": {
            "image/png": "[encoded data removed]",
            "text/plain": [
              "<Figure size 432x288 with 1 Axes>"
            ]
          },
          "metadata": {
            "tags": [],
            "needs_background": "light"
          }
        }
      ]
    },
    {
      "cell_type": "code",
      "metadata": {
        "id": "YJDs2DOp1aZn"
      },
      "source": [
        ""
      ],
      "execution_count": null,
      "outputs": []
    },
    {
      "cell_type": "markdown",
      "metadata": {
        "id": "_PjT5fxI4NZe"
      },
      "source": [
        "# Serial Functions with Extended Data"
      ]
    },
    {
      "cell_type": "code",
      "metadata": {
        "id": "0vclkYGhNL7a"
      },
      "source": [
        "y_test_list = y_test_list*10"
      ],
      "execution_count": null,
      "outputs": []
    },
    {
      "cell_type": "code",
      "metadata": {
        "id": "L9j75aLPO7us"
      },
      "source": [
        "for i in range(len(arr)):\n",
        "  arr[i] = arr[i]*10"
      ],
      "execution_count": null,
      "outputs": []
    },
    {
      "cell_type": "code",
      "metadata": {
        "colab": {
          "base_uri": "https://localhost:8080/"
        },
        "id": "inNHrGbnPJ6k",
        "outputId": "623754d0-47fd-44c8-d18f-fb5fa5d295bf"
      },
      "source": [
        "models = [simple_average, weighted_average, exponential_average]\n",
        "\n",
        "start_ensemble = time.time()\n",
        "results_buy = []\n",
        "for model in models:\n",
        "    results_buy.append(model(y_test_list, weights, arr))\n",
        "end_ensemble = time.time()\n",
        "time_ensemble_seq = end_ensemble - start_ensemble\n",
        "print('Time taken by sequential run of ensemble model: {} seconds'.format(time_ensemble_seq))"
      ],
      "execution_count": null,
      "outputs": [
        {
          "output_type": "stream",
          "text": [
            "Time taken by sequential run of ensemble model: 4.837552309036255 seconds\n"
          ],
          "name": "stdout"
        }
      ]
    },
    {
      "cell_type": "code",
      "metadata": {
        "colab": {
          "base_uri": "https://localhost:8080/"
        },
        "id": "4Ue49u05PTzz",
        "outputId": "39ad66bf-a757-47ce-9108-fc16fd625a1a"
      },
      "source": [
        "models = [simple_average, weighted_average, exponential_average]\n",
        "\n",
        "start_ensemble = time.time()\n",
        "results_buy = Parallel(n_jobs=3, backend='loky', verbose=0)\\\n",
        "                            (delayed(model)(y_test_list, weights, arr) \\\n",
        "                             for model in models)\n",
        "end_ensemble = time.time()\n",
        "time_ensemble_par = end_ensemble - start_ensemble\n",
        "print('Time taken by parallel run of ensemble model: {} seconds'.format(time_ensemble_par))"
      ],
      "execution_count": null,
      "outputs": [
        {
          "output_type": "stream",
          "text": [
            "Time taken by parallel run of ensemble model: 9.369730472564697 seconds\n"
          ],
          "name": "stdout"
        }
      ]
    },
    {
      "cell_type": "code",
      "metadata": {
        "colab": {
          "base_uri": "https://localhost:8080/"
        },
        "id": "5i4lwmI2PYNm",
        "outputId": "d8b26800-4e8b-415b-a667-2a0bc844db89"
      },
      "source": [
        "models = [simple_average, weighted_average, exponential_average]\n",
        "\n",
        "start_ensemble = time.time()\n",
        "results_buy = Parallel(n_jobs=3, backend='multiprocessing', verbose=0)\\\n",
        "                            (delayed(model)(y_test_list, weights, arr) \\\n",
        "                             for model in models)\n",
        "end_ensemble = time.time()\n",
        "time_ensemble_par = end_ensemble - start_ensemble\n",
        "print('Time taken by parallel run of ensemble model: {} seconds'.format(time_ensemble_par))"
      ],
      "execution_count": null,
      "outputs": [
        {
          "output_type": "stream",
          "text": [
            "Time taken by parallel run of ensemble model: 5.101279258728027 seconds\n"
          ],
          "name": "stdout"
        }
      ]
    },
    {
      "cell_type": "code",
      "metadata": {
        "colab": {
          "base_uri": "https://localhost:8080/"
        },
        "id": "GZ_IpdJdQ14c",
        "outputId": "fe0c9a11-72bd-4234-c81f-82d964f4e113"
      },
      "source": [
        "models = [simple_average, weighted_average, exponential_average]\n",
        "\n",
        "start_ensemble = time.time()\n",
        "results_buy = Parallel(n_jobs=3, backend='threading', verbose=0)\\\n",
        "                            (delayed(model)(y_test_list, weights, arr) \\\n",
        "                             for model in models)\n",
        "end_ensemble = time.time()\n",
        "time_ensemble_par = end_ensemble - start_ensemble\n",
        "print('Time taken by parallel run of ensemble model: {} seconds'.format(time_ensemble_par))"
      ],
      "execution_count": null,
      "outputs": [
        {
          "output_type": "stream",
          "text": [
            "Time taken by parallel run of ensemble model: 4.797720909118652 seconds\n"
          ],
          "name": "stdout"
        }
      ]
    },
    {
      "cell_type": "code",
      "metadata": {
        "colab": {
          "base_uri": "https://localhost:8080/",
          "height": 295
        },
        "id": "Pb4q4HEAQ4nb",
        "outputId": "f412fc83-7755-4ac2-9abe-bfe2c30a5133"
      },
      "source": [
        "import matplotlib.pyplot as plt\n",
        "\n",
        "left = [\"Linear\", \"Loky\", \"Multiprocessing\", \"Threading\"]\n",
        "height = [4.837552309036255, 9.369730472564697, 5.101279258728027,  4.797720909118652]\n",
        "  \n",
        "plt.bar( left,height,width = 0.8)\n",
        "  \n",
        "plt.xlabel('Prediction Models')\n",
        "# naming the y-axis\n",
        "plt.ylabel('Time Taken')\n",
        "# plot title\n",
        "plt.title('Comparison Chart !')\n",
        "  \n",
        "# function to show the plot\n",
        "plt.show()"
      ],
      "execution_count": null,
      "outputs": [
        {
          "output_type": "display_data",
          "data": {
            "image/png": "[encoded data removed]",
            "text/plain": [
              "<Figure size 432x288 with 1 Axes>"
            ]
          },
          "metadata": {
            "tags": [],
            "needs_background": "light"
          }
        }
      ]
    },
    {
      "cell_type": "code",
      "metadata": {
        "id": "ksvPGg1HTysG"
      },
      "source": [
        ""
      ],
      "execution_count": null,
      "outputs": []
    },
    {
      "cell_type": "markdown",
      "metadata": {
        "id": "NSUyYpRJ4gYG"
      },
      "source": [
        "# Parallel Functions"
      ]
    },
    {
      "cell_type": "code",
      "metadata": {
        "colab": {
          "base_uri": "https://localhost:8080/"
        },
        "id": "tLfTclUG4bH4",
        "outputId": "8fcce06f-e115-4c28-88f7-a456da0e4ca7"
      },
      "source": [
        "models = [simple_average_parallel, weighted_average_parallel, exponential_average_parallel]\n",
        "\n",
        "start_ensemble = time.time()\n",
        "results_buy = []\n",
        "for model in models:\n",
        "    results_buy.append(model(y_test_list, weights, arr))\n",
        "end_ensemble = time.time()\n",
        "time_ensemble_seq = end_ensemble - start_ensemble\n",
        "print('Time taken by sequential run of ensemble model: {} seconds'.format(time_ensemble_seq))"
      ],
      "execution_count": 154,
      "outputs": [
        {
          "output_type": "stream",
          "text": [
            "Time taken by sequential run of ensemble model: 0.34371018409729004 seconds\n"
          ],
          "name": "stdout"
        }
      ]
    },
    {
      "cell_type": "code",
      "metadata": {
        "id": "3g3E7a6x4bIA"
      },
      "source": [
        "#Parallel_Implementation_Loky-Parallel_Functions"
      ],
      "execution_count": 155,
      "outputs": []
    },
    {
      "cell_type": "code",
      "metadata": {
        "colab": {
          "base_uri": "https://localhost:8080/"
        },
        "id": "0P_JJajf4bIB",
        "outputId": "c378bef5-ef70-4d5b-e872-3c561efe228f"
      },
      "source": [
        "models = [simple_average_parallel, weighted_average_parallel, exponential_average_parallel]\n",
        "\n",
        "start_ensemble = time.time()\n",
        "results_buy = Parallel(n_jobs=3, backend='loky', verbose=0)\\\n",
        "                            (delayed(model)(y_test_list, weights, arr) \\\n",
        "                             for model in models)\n",
        "end_ensemble = time.time()\n",
        "time_ensemble_par = end_ensemble - start_ensemble\n",
        "print('Time taken by parallel run of ensemble model: {} seconds'.format(time_ensemble_par))"
      ],
      "execution_count": 157,
      "outputs": [
        {
          "output_type": "stream",
          "text": [
            "Time taken by parallel run of ensemble model: 0.7457356452941895 seconds\n"
          ],
          "name": "stdout"
        }
      ]
    },
    {
      "cell_type": "code",
      "metadata": {
        "id": "0JPNigkh4bIB"
      },
      "source": [
        "#Parallel_Implementation_Multi-Parallel_Functions"
      ],
      "execution_count": null,
      "outputs": []
    },
    {
      "cell_type": "code",
      "metadata": {
        "colab": {
          "base_uri": "https://localhost:8080/"
        },
        "id": "sRWvDx3A4bIB",
        "outputId": "46325030-6432-4a51-9fe6-134bac5da552"
      },
      "source": [
        "models = [simple_average_parallel, weighted_average_parallel, exponential_average_parallel]\n",
        "\n",
        "start_ensemble = time.time()\n",
        "results_buy = Parallel(n_jobs=3, backend='multiprocessing', verbose=0)\\\n",
        "                            (delayed(model)(y_test_list, weights, arr) \\\n",
        "                             for model in models)\n",
        "end_ensemble = time.time()\n",
        "time_ensemble_par = end_ensemble - start_ensemble\n",
        "print('Time taken by parallel run of ensemble model: {} seconds'.format(time_ensemble_par))"
      ],
      "execution_count": 158,
      "outputs": [
        {
          "output_type": "stream",
          "text": [
            "Time taken by parallel run of ensemble model: 0.5589661598205566 seconds\n"
          ],
          "name": "stdout"
        }
      ]
    },
    {
      "cell_type": "code",
      "metadata": {
        "colab": {
          "base_uri": "https://localhost:8080/",
          "height": 295
        },
        "id": "6dkSoCrz4bIB",
        "outputId": "a5ef2486-ef23-4948-c2b3-6e453fa98185"
      },
      "source": [
        "import matplotlib.pyplot as plt\n",
        "\n",
        "left = [\"Linear\", \"Loky\", \"Multiprocessing\"]\n",
        "height = [0.34371018409729004,  0.7457356452941895  , 0.5589661598205566]\n",
        "  \n",
        "plt.bar( left,height,width = 0.8)\n",
        "  \n",
        "plt.xlabel('Prediction Models For Parallel Functions')\n",
        "# naming the y-axis\n",
        "plt.ylabel('Time Taken')\n",
        "# plot title\n",
        "plt.title('Comparison Chart !')\n",
        "  \n",
        "# function to show the plot\n",
        "plt.show()"
      ],
      "execution_count": 159,
      "outputs": [
        {
          "output_type": "display_data",
          "data": {
            "image/png": "[encoded data removed]",
            "text/plain": [
              "<Figure size 432x288 with 1 Axes>"
            ]
          },
          "metadata": {
            "tags": [],
            "needs_background": "light"
          }
        }
      ]
    },
    {
      "cell_type": "markdown",
      "metadata": {
        "id": "DdiD3y8o4SC2"
      },
      "source": [
        "# Parallel Functions with extended data"
      ]
    },
    {
      "cell_type": "code",
      "metadata": {
        "id": "t-ShhM6FTyvh"
      },
      "source": [
        ""
      ],
      "execution_count": null,
      "outputs": []
    },
    {
      "cell_type": "code",
      "metadata": {
        "id": "ArthfvxR27gT"
      },
      "source": [
        "arr_copy = arr\n",
        "y_test_list_copy = y_test_list"
      ],
      "execution_count": null,
      "outputs": []
    },
    {
      "cell_type": "code",
      "metadata": {
        "id": "-sAyqQ6p2ucF"
      },
      "source": [
        "y_test_list_copy = y_test_list_copy*10"
      ],
      "execution_count": null,
      "outputs": []
    },
    {
      "cell_type": "code",
      "metadata": {
        "id": "qszShbpd2vF7"
      },
      "source": [
        "for i in range(len(arr_copy)):\n",
        "  arr_copy[i] = arr_copy[i]*10"
      ],
      "execution_count": null,
      "outputs": []
    },
    {
      "cell_type": "code",
      "metadata": {
        "id": "9jOpOBIL1BpG"
      },
      "source": [
        "#Serial_Implementation-Parallel_Functions"
      ],
      "execution_count": null,
      "outputs": []
    },
    {
      "cell_type": "code",
      "metadata": {
        "colab": {
          "base_uri": "https://localhost:8080/"
        },
        "id": "D0O65vDD0g8U",
        "outputId": "b577fcdc-509f-4056-9ad6-12c2aa4b61ff"
      },
      "source": [
        "models = [simple_average_parallel, weighted_average_parallel, exponential_average_parallel]\n",
        "\n",
        "start_ensemble = time.time()\n",
        "results_buy = []\n",
        "for model in models:\n",
        "    results_buy.append(model(y_test_list_copy, weights, arr_copy))\n",
        "end_ensemble = time.time()\n",
        "time_ensemble_seq = end_ensemble - start_ensemble\n",
        "print('Time taken by sequential run of ensemble model: {} seconds'.format(time_ensemble_seq))"
      ],
      "execution_count": null,
      "outputs": [
        {
          "output_type": "stream",
          "text": [
            "Time taken by sequential run of ensemble model: 14.77927851676941 seconds\n"
          ],
          "name": "stdout"
        }
      ]
    },
    {
      "cell_type": "code",
      "metadata": {
        "id": "dH1vXc6U2F_W"
      },
      "source": [
        "#Parallel_Implementation_Loky-Parallel_Functions"
      ],
      "execution_count": null,
      "outputs": []
    },
    {
      "cell_type": "code",
      "metadata": {
        "colab": {
          "base_uri": "https://localhost:8080/"
        },
        "id": "mFA6drv32F_W",
        "outputId": "9517cc45-d218-4758-c36b-0c203ff0b14d"
      },
      "source": [
        "models = [simple_average_parallel, weighted_average_parallel, exponential_average_parallel]\n",
        "\n",
        "start_ensemble = time.time()\n",
        "results_buy = Parallel(n_jobs=3, backend='loky', verbose=0)\\\n",
        "                            (delayed(model)(y_test_list_copy, weights, arr_copy) \\\n",
        "                             for model in models)\n",
        "end_ensemble = time.time()\n",
        "time_ensemble_par = end_ensemble - start_ensemble\n",
        "print('Time taken by parallel run of ensemble model: {} seconds'.format(time_ensemble_par))"
      ],
      "execution_count": null,
      "outputs": [
        {
          "output_type": "stream",
          "text": [
            "Time taken by parallel run of ensemble model: 8.956387519836426 seconds\n"
          ],
          "name": "stdout"
        }
      ]
    },
    {
      "cell_type": "code",
      "metadata": {
        "id": "DLb1Xwhq2F_X"
      },
      "source": [
        "#Parallel_Implementation_Multi-Parallel_Functions"
      ],
      "execution_count": null,
      "outputs": []
    },
    {
      "cell_type": "code",
      "metadata": {
        "colab": {
          "base_uri": "https://localhost:8080/"
        },
        "id": "LYhuQnKT2F_X",
        "outputId": "5fc3d425-d96e-4894-8755-87e215c4123d"
      },
      "source": [
        "models = [simple_average_parallel, weighted_average_parallel, exponential_average_parallel]\n",
        "\n",
        "start_ensemble = time.time()\n",
        "results_buy = Parallel(n_jobs=3, backend='multiprocessing', verbose=0)\\\n",
        "                            (delayed(model)(y_test_list_copy, weights, arr_copy) \\\n",
        "                             for model in models)\n",
        "end_ensemble = time.time()\n",
        "time_ensemble_par = end_ensemble - start_ensemble\n",
        "print('Time taken by parallel run of ensemble model: {} seconds'.format(time_ensemble_par))"
      ],
      "execution_count": null,
      "outputs": [
        {
          "output_type": "stream",
          "text": [
            "Time taken by parallel run of ensemble model: 13.621339082717896 seconds\n"
          ],
          "name": "stdout"
        }
      ]
    },
    {
      "cell_type": "code",
      "metadata": {
        "colab": {
          "base_uri": "https://localhost:8080/",
          "height": 295
        },
        "id": "6IYzomyl3xrF",
        "outputId": "ee7b6b2b-2ed5-41f1-ce0c-dc58a857c4ce"
      },
      "source": [
        "import matplotlib.pyplot as plt\n",
        "\n",
        "left = [\"Linear\", \"Loky\", \"Multiprocessing\"]\n",
        "height = [14.77927851676941, 8.956387519836426 , 13.621339082717896]\n",
        "  \n",
        "plt.bar( left,height,width = 0.8)\n",
        "  \n",
        "plt.xlabel('Prediction Models For Parallel Functions')\n",
        "# naming the y-axis\n",
        "plt.ylabel('Time Taken')\n",
        "# plot title\n",
        "plt.title('Comparison Chart !')\n",
        "  \n",
        "# function to show the plot\n",
        "plt.show()"
      ],
      "execution_count": 146,
      "outputs": [
        {
          "output_type": "display_data",
          "data": {
            "image/png": "[encoded data removed]",
            "text/plain": [
              "<Figure size 432x288 with 1 Axes>"
            ]
          },
          "metadata": {
            "tags": [],
            "needs_background": "light"
          }
        }
      ]
    },
    {
      "cell_type": "code",
      "metadata": {
        "id": "fzz_D36H39DM"
      },
      "source": [
        ""
      ],
      "execution_count": null,
      "outputs": []
    }
  ]
}